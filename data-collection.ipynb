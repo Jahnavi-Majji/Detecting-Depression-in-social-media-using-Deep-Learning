{
 "cells": [
  {
   "cell_type": "code",
   "execution_count": null,
   "metadata": {
    "colab": {
     "base_uri": "https://localhost:8080/"
    },
    "id": "rf5qnm7ht6_e",
    "outputId": "5a7adb97-62cd-4dba-a17d-ce5daf687290"
   },
   "outputs": [
    {
     "name": "stdout",
     "output_type": "stream",
     "text": [
      "Drive already mounted at /content/gdrive; to attempt to forcibly remount, call drive.mount(\"/content/gdrive\", force_remount=True).\n"
     ]
    }
   ],
   "source": [
    "from google.colab import drive\n",
    "drive.mount(\"/content/gdrive\")"
   ]
  },
  {
   "cell_type": "code",
   "execution_count": null,
   "metadata": {
    "colab": {
     "base_uri": "https://localhost:8080/"
    },
    "id": "5m9DRGkdbKVy",
    "outputId": "5f56b114-a8ac-4581-ee94-b09d6edd02b1"
   },
   "outputs": [
    {
     "name": "stdout",
     "output_type": "stream",
     "text": [
      "fatal: destination path 'twint' already exists and is not an empty directory.\n",
      "Processing /content/twint\n",
      "Requirement already satisfied: aiohttp in /usr/local/lib/python3.7/dist-packages (from -r requirements.txt (line 1)) (3.7.4.post0)\n",
      "Requirement already satisfied: aiodns in /usr/local/lib/python3.7/dist-packages (from -r requirements.txt (line 2)) (3.0.0)\n",
      "Requirement already satisfied: beautifulsoup4 in /usr/local/lib/python3.7/dist-packages (from -r requirements.txt (line 3)) (4.6.3)\n",
      "Requirement already satisfied: cchardet in /usr/local/lib/python3.7/dist-packages (from -r requirements.txt (line 4)) (2.1.7)\n",
      "Requirement already satisfied: dataclasses in /usr/local/lib/python3.7/dist-packages (from -r requirements.txt (line 5)) (0.6)\n",
      "Requirement already satisfied: elasticsearch in /usr/local/lib/python3.7/dist-packages (from -r requirements.txt (line 6)) (7.13.1)\n",
      "Requirement already satisfied: pysocks in /usr/local/lib/python3.7/dist-packages (from -r requirements.txt (line 7)) (1.7.1)\n",
      "Requirement already satisfied: pandas>=0.23.0 in /usr/local/lib/python3.7/dist-packages (from -r requirements.txt (line 8)) (1.1.5)\n",
      "Requirement already satisfied: aiohttp_socks<=0.4.1 in /usr/local/lib/python3.7/dist-packages (from -r requirements.txt (line 9)) (0.4.1)\n",
      "Requirement already satisfied: schedule in /usr/local/lib/python3.7/dist-packages (from -r requirements.txt (line 10)) (1.1.0)\n",
      "Requirement already satisfied: geopy in /usr/local/lib/python3.7/dist-packages (from -r requirements.txt (line 11)) (1.17.0)\n",
      "Requirement already satisfied: fake-useragent in /usr/local/lib/python3.7/dist-packages (from -r requirements.txt (line 12)) (0.1.11)\n",
      "Requirement already satisfied: googletransx in /usr/local/lib/python3.7/dist-packages (from -r requirements.txt (line 13)) (2.4.2)\n",
      "Requirement already satisfied: attrs>=17.3.0 in /usr/local/lib/python3.7/dist-packages (from aiohttp->-r requirements.txt (line 1)) (21.2.0)\n",
      "Requirement already satisfied: async-timeout<4.0,>=3.0 in /usr/local/lib/python3.7/dist-packages (from aiohttp->-r requirements.txt (line 1)) (3.0.1)\n",
      "Requirement already satisfied: yarl<2.0,>=1.0 in /usr/local/lib/python3.7/dist-packages (from aiohttp->-r requirements.txt (line 1)) (1.6.3)\n",
      "Requirement already satisfied: multidict<7.0,>=4.5 in /usr/local/lib/python3.7/dist-packages (from aiohttp->-r requirements.txt (line 1)) (5.1.0)\n",
      "Requirement already satisfied: typing-extensions>=3.6.5 in /usr/local/lib/python3.7/dist-packages (from aiohttp->-r requirements.txt (line 1)) (3.7.4.3)\n",
      "Requirement already satisfied: chardet<5.0,>=2.0 in /usr/local/lib/python3.7/dist-packages (from aiohttp->-r requirements.txt (line 1)) (3.0.4)\n",
      "Requirement already satisfied: pycares>=4.0.0 in /usr/local/lib/python3.7/dist-packages (from aiodns->-r requirements.txt (line 2)) (4.0.0)\n",
      "Requirement already satisfied: urllib3<2,>=1.21.1 in /usr/local/lib/python3.7/dist-packages (from elasticsearch->-r requirements.txt (line 6)) (1.24.3)\n",
      "Requirement already satisfied: certifi in /usr/local/lib/python3.7/dist-packages (from elasticsearch->-r requirements.txt (line 6)) (2021.5.30)\n",
      "Requirement already satisfied: python-dateutil>=2.7.3 in /usr/local/lib/python3.7/dist-packages (from pandas>=0.23.0->-r requirements.txt (line 8)) (2.8.1)\n",
      "Requirement already satisfied: numpy>=1.15.4 in /usr/local/lib/python3.7/dist-packages (from pandas>=0.23.0->-r requirements.txt (line 8)) (1.19.5)\n",
      "Requirement already satisfied: pytz>=2017.2 in /usr/local/lib/python3.7/dist-packages (from pandas>=0.23.0->-r requirements.txt (line 8)) (2018.9)\n",
      "Requirement already satisfied: geographiclib<2,>=1.49 in /usr/local/lib/python3.7/dist-packages (from geopy->-r requirements.txt (line 11)) (1.50)\n",
      "Requirement already satisfied: requests in /usr/local/lib/python3.7/dist-packages (from googletransx->-r requirements.txt (line 13)) (2.23.0)\n",
      "Requirement already satisfied: idna>=2.0 in /usr/local/lib/python3.7/dist-packages (from yarl<2.0,>=1.0->aiohttp->-r requirements.txt (line 1)) (2.10)\n",
      "Requirement already satisfied: cffi>=1.5.0 in /usr/local/lib/python3.7/dist-packages (from pycares>=4.0.0->aiodns->-r requirements.txt (line 2)) (1.14.5)\n",
      "Requirement already satisfied: six>=1.5 in /usr/local/lib/python3.7/dist-packages (from python-dateutil>=2.7.3->pandas>=0.23.0->-r requirements.txt (line 8)) (1.15.0)\n",
      "Requirement already satisfied: pycparser in /usr/local/lib/python3.7/dist-packages (from cffi>=1.5.0->pycares>=4.0.0->aiodns->-r requirements.txt (line 2)) (2.20)\n",
      "Building wheels for collected packages: twint\n",
      "  Building wheel for twint (setup.py) ... \u001b[?25l\u001b[?25hdone\n",
      "  Created wheel for twint: filename=twint-2.1.21-cp37-none-any.whl size=38872 sha256=fa52120032b3196f289084277dbe3330f1cf61a21e5e57cc79b6d4553c3fdde8\n",
      "  Stored in directory: /tmp/pip-ephem-wheel-cache-dr49q92j/wheels/c9/bb/bd/2b559954ecc4f4905266df71e9f2e08268750df0fa1ec1a4d2\n",
      "Successfully built twint\n",
      "Installing collected packages: twint\n",
      "  Found existing installation: twint 2.1.21\n",
      "    Uninstalling twint-2.1.21:\n",
      "      Successfully uninstalled twint-2.1.21\n",
      "Successfully installed twint-2.1.21\n"
     ]
    }
   ],
   "source": [
    "!git clone --depth=1 https://github.com/twintproject/twint.git\n",
    "!cd /content/twint && pip3 install . -r requirements.txt\n",
    "\n",
    "import twint\n",
    "import nest_asyncio\n",
    "nest_asyncio.apply()\n",
    "import pandas as pd"
   ]
  },
  {
   "cell_type": "code",
   "execution_count": null,
   "metadata": {
    "colab": {
     "base_uri": "https://localhost:8080/"
    },
    "id": "cwZJOn2KsoOR",
    "outputId": "a5e6bc7a-372c-454a-b882-25a9b89781e2"
   },
   "outputs": [
    {
     "name": "stdout",
     "output_type": "stream",
     "text": [
      "#depression\n",
      "#anxiety\n",
      "#loneliness\n",
      "#hopelessness\n",
      "#depressed\n",
      "#antidepressants\n"
     ]
    }
   ],
   "source": [
    "tags = [\"depression\", \"anxiety\", \"loneliness\", \"hopelessness\", \"depressed\", 'antidepressants']\n",
    "for i in range(len(tags)):\n",
    "  print(tags[i])\n",
    "  c = twint.Config()\n",
    "  # c.Format = \"Tweet ID: {id} | Username: {username} | Tweet: {tweet}\"\n",
    "  c.Search = tags[i]\n",
    "  c.Limit = 1000\n",
    "  c.Year = 2020\n",
    "  c.Store_csv = True\n",
    "  c.Store_Object = True\n",
    "  c.Output = \"/content/gdrive/My Drive/data/tweets_depressed.csv\"\n",
    "  c.Hide_output = True\n",
    "  c.Stats = True\n",
    "  c.Lowercase  = True\n",
    "  c.Filter_retweets = True\n",
    "  twint.run.Search(c)\n",
    "\n",
    "\n",
    "# c = twint.Config()\n",
    "# c.Limit = 20\n",
    "# c.Lang = \"en\"\n",
    "# c.Store_csv = True\n",
    "# c.Search = \"#depression\"\n",
    "# c.Store_Object = True\n",
    "# c.Output = \"/content/gdrive/My Drive/data/tweets1.csv\"\n",
    "# twint.run.Search(c)"
   ]
  },
  {
   "cell_type": "code",
   "execution_count": null,
   "metadata": {
    "colab": {
     "base_uri": "https://localhost:8080/"
    },
    "id": "d2iVUirVuRvD",
    "outputId": "5efb81aa-4fc3-41bc-9a10-5faa8f61859f"
   },
   "outputs": [
    {
     "name": "stdout",
     "output_type": "stream",
     "text": [
      "#joy\n",
      "#happy\n",
      "#delight\n",
      "#cheer\n",
      "#bright\n",
      "#anger\n",
      "#fear\n"
     ]
    }
   ],
   "source": [
    "tags = [\"#joy\", \"#happy\", \"#delight\", \"#cheer\", \"#bright\", \"#anger\", \"#fear\"]\n",
    "for i in range(len(tags)):\n",
    "  print(tags[i])\n",
    "  c = twint.Config()\n",
    "  # c.Format = \"Tweet ID: {id} | Username: {username} | Tweet: {tweet}\"\n",
    "  c.Search = tags[i]\n",
    "  c.Limit = 1000\n",
    "  c.Year = 2020\n",
    "  c.Store_csv = True\n",
    "  c.Store_Object = True\n",
    "  c.Output = \"/content/gdrive/My Drive/data/tweets_non_depressed.csv\"\n",
    "  c.Hide_output = True\n",
    "  c.Stats = True\n",
    "  c.Lowercase  = True\n",
    "  c.Filter_retweets = True\n",
    "  twint.run.Search(c)"
   ]
  },
  {
   "cell_type": "code",
   "execution_count": null,
   "metadata": {
    "colab": {
     "base_uri": "https://localhost:8080/"
    },
    "id": "1xSLDqH6w4nO",
    "outputId": "c4b86d56-e754-45cc-b246-2e23c36ab774"
   },
   "outputs": [
    {
     "name": "stdout",
     "output_type": "stream",
     "text": [
      "#depression\n",
      "#anxiety\n",
      "#loneliness\n",
      "#hopelessness\n",
      "#depressed\n",
      "#antidepressants\n"
     ]
    }
   ],
   "source": [
    "tags = [\"#depression\", \"#anxiety\", \"#loneliness\", \"#hopelessness\", \"#depressed\", '#antidepressants']\n",
    "for i in range(len(tags)):\n",
    "  print(tags[i])\n",
    "  c = twint.Config()\n",
    "  # c.Format = \"Tweet ID: {id} | Username: {username} | Tweet: {tweet}\"\n",
    "  c.Search = tags[i]\n",
    "  c.Limit = 1000\n",
    "  c.Year = 2019\n",
    "  c.Store_csv = True\n",
    "  c.Store_Object = True\n",
    "  c.Output = \"/content/gdrive/My Drive/data/tweets_depressed_19.csv\"\n",
    "  c.Hide_output = True\n",
    "  c.Stats = True\n",
    "  c.Lowercase  = True\n",
    "  c.Filter_retweets = True\n",
    "  twint.run.Search(c)"
   ]
  },
  {
   "cell_type": "code",
   "execution_count": null,
   "metadata": {
    "colab": {
     "base_uri": "https://localhost:8080/"
    },
    "id": "2J984gHTBq-n",
    "outputId": "a5217a1b-19bc-4474-e75d-3746beb25dbe"
   },
   "outputs": [
    {
     "name": "stdout",
     "output_type": "stream",
     "text": [
      "#joy\n",
      "#happy\n",
      "#delight\n",
      "#cheer\n",
      "#bright\n",
      "#anger\n",
      "#fear\n"
     ]
    }
   ],
   "source": [
    "tags = [\"#joy\", \"#happy\", \"#delight\", \"#cheer\", \"#bright\", \"#anger\", \"#fear\"]\n",
    "for i in range(len(tags)):\n",
    "  print(tags[i])\n",
    "  c = twint.Config()\n",
    "  # c.Format = \"Tweet ID: {id} | Username: {username} | Tweet: {tweet}\"\n",
    "  c.Search = tags[i]\n",
    "  c.Limit = 1000\n",
    "  c.Year = 2019\n",
    "  c.Store_csv = True\n",
    "  c.Store_Object = True\n",
    "  c.Output = \"/content/gdrive/My Drive/data/tweets_non_depressed_19.csv\"\n",
    "  c.Hide_output = True\n",
    "  c.Stats = True\n",
    "  c.Lowercase  = True\n",
    "  c.Filter_retweets = True\n",
    "  twint.run.Search(c)"
   ]
  },
  {
   "cell_type": "code",
   "execution_count": null,
   "metadata": {
    "id": "X4JND7skIDSw"
   },
   "outputs": [],
   "source": [
    "import pandas as pd\n",
    "tweets_depressed_19 = pd.read_csv(\"/content/gdrive/My Drive/data/tweets_depressed_19.csv\")\n",
    "tweets_depressed_20 = pd.read_csv(\"/content/gdrive/My Drive/data/tweets_depressed.csv\")\n",
    "\n",
    "tweets_non_depressed_19 = pd.read_csv(\"/content/gdrive/My Drive/data/tweets_non_depressed_19.csv\")\n",
    "tweets_non_depressed_20 = pd.read_csv(\"/content/gdrive/My Drive/data/tweets_non_depressed.csv\")"
   ]
  },
  {
   "cell_type": "code",
   "execution_count": null,
   "metadata": {
    "colab": {
     "base_uri": "https://localhost:8080/"
    },
    "id": "_d1zk3qAIPFl",
    "outputId": "4e337c90-3f83-4467-abaa-b8529cb1eba5"
   },
   "outputs": [
    {
     "name": "stdout",
     "output_type": "stream",
     "text": [
      "Thank you so much to Reenie87 who is another New Friend 🤗 on ❤️ Twitter! I hope you enjoy 🌈 my Tweets 😊 ⚽️ x  https://t.co/9baXRrZ2wb #Depression #Anger #MentalHealth #MHSM #EndTheStigma #KeepTalkingMH #F4FMentalHealthOnly #IWillNotLetMyMHKillMe\n",
      "Happy new year! Today’s smile goal: celebrate the new year!! 🐇🐢🐕🐍 Help me become a full time artist at  https://t.co/xoU612ZiFo :)  #happy #cute #art #sketch #sketchaday #illustrations #doodle #aww #friends #funny #memes #depression #comics #love #scbwi  https://t.co/UJ8hEzeLtn\n",
      "I am afraid of death.  I don't want to die.  Yet this still does not motivate me to do things I enjoy.  Die happy, or die sad.  Either way, you die so what's the point?  #depression #depressed #depressedthoughts\n",
      "@Sia I wish I’d known I could write about myself...😞 I’m always too late for everything, miss out on everything...my gahd. My life... Anyway, have a Happy New Year. Here’s to hoping next year will be better... #depression\n",
      "To anyone out there suffering with #depression #anxiety  or #Loneliness hang on in there, we are all waiting for the sun to come out and hopefully 2019 may be that year. Peace @depressionarmy @stay__strong___ @AnxietyUK @EndLonelinessUK\n"
     ]
    }
   ],
   "source": [
    "depressed_19_tweets = tweets_depressed_19.tweet[:5]\n",
    "for x in depressed_19_tweets:\n",
    "  print(x)"
   ]
  },
  {
   "cell_type": "code",
   "execution_count": null,
   "metadata": {
    "colab": {
     "base_uri": "https://localhost:8080/"
    },
    "id": "Pj6PRWfVIgcY",
    "outputId": "965be314-58bd-4531-ad6b-a7e0501dce7f"
   },
   "outputs": [
    {
     "name": "stdout",
     "output_type": "stream",
     "text": [
      "Depression has been one of my biggest challenges lately. Someone told me one that heartbreak becomes me and I agree. #depression #mentalillness #borderlinepersonalitydisorder #bpd #fuckyoubpd  https://t.co/0Af88gypfY\n",
      " https://t.co/oZOjmykD6e  Less #depression associated with more dark #chocolate, contains psychoactive ingredients that lift mood.  Flavonoids also may be important, as they reduce #inflammation, linked to depression onset  #CannabinoidScience #BrainFunction  1#SharedFacts\n",
      "I'll always be a waste of space to you. #depression\n",
      "Bei der Hymne von #frankzander auf #zdf sind doch alle mit #Depression schon kurz vor dem freitod oder?! Da gehen die Anrufe beim #rotenkreuz in die Höhe #unverantwortlich  https://t.co/BbMDuDpjMI\n",
      "Mindfulness Therapy is the application of #mindfulness for healing #anxiety and #depression and emotional pain. This is a very powerful approach once you have learned how to do this.\n"
     ]
    }
   ],
   "source": [
    "depressed_20_tweets = tweets_depressed_20.tweet[:5]\n",
    "for x in depressed_20_tweets:\n",
    "  print(x)"
   ]
  },
  {
   "cell_type": "code",
   "execution_count": null,
   "metadata": {
    "colab": {
     "base_uri": "https://localhost:8080/"
    },
    "id": "uWbHQqjSI4dv",
    "outputId": "ae9b2c18-db37-4354-ae15-173617d3a5a7"
   },
   "outputs": [
    {
     "name": "stdout",
     "output_type": "stream",
     "text": [
      "Wishing you all a Happy New Year from Bubblbook! Here's to a new year of getting together more!  #newyear #partytime #celebrations #2020 #love #joy #happy #dinner #resolutions  https://t.co/zHGroZKZa4\n",
      "HAPPY NEW YEAR!!! Have a Blessed 2020🎉 #PutGODfirst #gratitude #Love #Peace #Joy  https://t.co/HRhE8UUb52\n",
      "Christmas Shenanigans at Dad’s place with all the cool kids! #love #family #joy @ West Roxbury, Massachusetts  https://t.co/RyXEwlEawq\n",
      "#BonneAnnee #HappyNewYear to my old &amp; new friends to come    #Joy #Happiness #Laugh #Jokes #Family #NewAdventures &amp; so much more great moments to live ...   Be weird Be silly &amp; first thing first Be Happy Love oo xx  https://t.co/S3apbEo00W\n",
      "Happy New Year! Wishing you an amazing, awesome and abundant 2020! 😍 #happynewyear #wellness #joy #2020goals  https://t.co/fzuers7R0F\n"
     ]
    }
   ],
   "source": [
    "non_depressed_19_tweets = tweets_non_depressed_19.tweet[:5]\n",
    "for x in non_depressed_19_tweets:\n",
    "  print(x)"
   ]
  },
  {
   "cell_type": "code",
   "execution_count": null,
   "metadata": {
    "colab": {
     "base_uri": "https://localhost:8080/"
    },
    "id": "1K8ggENeI5ts",
    "outputId": "3e1dce0e-956f-4cae-bc3e-f8ec22d833a0"
   },
   "outputs": [
    {
     "name": "stdout",
     "output_type": "stream",
     "text": [
      "Wishing you all a Happy New Year from Bubblbook! Here's to a new year of getting together more!  #newyear #partytime #celebrations #2020 #love #joy #happy #dinner #resolutions  https://t.co/zHGroZKZa4\n",
      "HAPPY NEW YEAR!!! Have a Blessed 2020🎉 #PutGODfirst #gratitude #Love #Peace #Joy  https://t.co/HRhE8UUb52\n",
      "Christmas Shenanigans at Dad’s place with all the cool kids! #love #family #joy @ West Roxbury, Massachusetts  https://t.co/RyXEwlEawq\n",
      "#BonneAnnee #HappyNewYear to my old &amp; new friends to come    #Joy #Happiness #Laugh #Jokes #Family #NewAdventures &amp; so much more great moments to live ...   Be weird Be silly &amp; first thing first Be Happy Love oo xx  https://t.co/S3apbEo00W\n",
      "Happy New Year! Wishing you an amazing, awesome and abundant 2020! 😍 #happynewyear #wellness #joy #2020goals  https://t.co/fzuers7R0F\n"
     ]
    }
   ],
   "source": [
    "non_depressed_20_tweets = tweets_non_depressed_20.tweet[:5]\n",
    "for x in non_depressed_20_tweets:\n",
    "  print(x)"
   ]
  },
  {
   "cell_type": "code",
   "execution_count": null,
   "metadata": {
    "id": "ivgB_gczJBi9"
   },
   "outputs": [],
   "source": [
    "depressed_tweets = pd.concat([tweets_depressed_19, tweets_depressed_20])"
   ]
  },
  {
   "cell_type": "code",
   "execution_count": null,
   "metadata": {
    "colab": {
     "base_uri": "https://localhost:8080/",
     "height": 492
    },
    "id": "YGLtnUzEJ3Dl",
    "outputId": "851e13bc-98bd-43cc-a3ab-e09085c2e001"
   },
   "outputs": [
    {
     "data": {
      "text/html": [
       "<div>\n",
       "<style scoped>\n",
       "    .dataframe tbody tr th:only-of-type {\n",
       "        vertical-align: middle;\n",
       "    }\n",
       "\n",
       "    .dataframe tbody tr th {\n",
       "        vertical-align: top;\n",
       "    }\n",
       "\n",
       "    .dataframe thead th {\n",
       "        text-align: right;\n",
       "    }\n",
       "</style>\n",
       "<table border=\"1\" class=\"dataframe\">\n",
       "  <thead>\n",
       "    <tr style=\"text-align: right;\">\n",
       "      <th></th>\n",
       "      <th>id</th>\n",
       "      <th>conversation_id</th>\n",
       "      <th>created_at</th>\n",
       "      <th>date</th>\n",
       "      <th>time</th>\n",
       "      <th>timezone</th>\n",
       "      <th>user_id</th>\n",
       "      <th>username</th>\n",
       "      <th>name</th>\n",
       "      <th>place</th>\n",
       "      <th>tweet</th>\n",
       "      <th>language</th>\n",
       "      <th>mentions</th>\n",
       "      <th>urls</th>\n",
       "      <th>photos</th>\n",
       "      <th>replies_count</th>\n",
       "      <th>retweets_count</th>\n",
       "      <th>likes_count</th>\n",
       "      <th>hashtags</th>\n",
       "      <th>cashtags</th>\n",
       "      <th>link</th>\n",
       "      <th>retweet</th>\n",
       "      <th>quote_url</th>\n",
       "      <th>video</th>\n",
       "      <th>thumbnail</th>\n",
       "      <th>near</th>\n",
       "      <th>geo</th>\n",
       "      <th>source</th>\n",
       "      <th>user_rt_id</th>\n",
       "      <th>user_rt</th>\n",
       "      <th>retweet_id</th>\n",
       "      <th>reply_to</th>\n",
       "      <th>retweet_date</th>\n",
       "      <th>translate</th>\n",
       "      <th>trans_src</th>\n",
       "      <th>trans_dest</th>\n",
       "    </tr>\n",
       "  </thead>\n",
       "  <tbody>\n",
       "    <tr>\n",
       "      <th>0</th>\n",
       "      <td>1079889496664145921</td>\n",
       "      <td>1079889496664145921</td>\n",
       "      <td>2018-12-31 23:58:14 UTC</td>\n",
       "      <td>2018-12-31</td>\n",
       "      <td>23:58:14</td>\n",
       "      <td>0</td>\n",
       "      <td>1016397855865688065</td>\n",
       "      <td>shady2405</td>\n",
       "      <td>On the Borderline between Emotional 😭 &amp; Stable 😊</td>\n",
       "      <td>NaN</td>\n",
       "      <td>Thank you so much to Reenie87 who is another N...</td>\n",
       "      <td>en</td>\n",
       "      <td>[]</td>\n",
       "      <td>['https://twitter.com/Reenie871#Anxiety']</td>\n",
       "      <td>[]</td>\n",
       "      <td>0</td>\n",
       "      <td>0</td>\n",
       "      <td>1</td>\n",
       "      <td>['depression', 'anger', 'mentalhealth', 'mhsm'...</td>\n",
       "      <td>[]</td>\n",
       "      <td>https://twitter.com/shady2405/status/107988949...</td>\n",
       "      <td>False</td>\n",
       "      <td>NaN</td>\n",
       "      <td>0</td>\n",
       "      <td>NaN</td>\n",
       "      <td>NaN</td>\n",
       "      <td>NaN</td>\n",
       "      <td>NaN</td>\n",
       "      <td>NaN</td>\n",
       "      <td>NaN</td>\n",
       "      <td>NaN</td>\n",
       "      <td>[]</td>\n",
       "      <td>NaN</td>\n",
       "      <td>NaN</td>\n",
       "      <td>NaN</td>\n",
       "      <td>NaN</td>\n",
       "    </tr>\n",
       "    <tr>\n",
       "      <th>1</th>\n",
       "      <td>1079889431719493634</td>\n",
       "      <td>1079889431719493634</td>\n",
       "      <td>2018-12-31 23:57:58 UTC</td>\n",
       "      <td>2018-12-31</td>\n",
       "      <td>23:57:58</td>\n",
       "      <td>0</td>\n",
       "      <td>410493309</td>\n",
       "      <td>4amshower</td>\n",
       "      <td>4amShower by Guy Kopsombut</td>\n",
       "      <td>NaN</td>\n",
       "      <td>Happy new year! Today’s smile goal: celebrate ...</td>\n",
       "      <td>en</td>\n",
       "      <td>[]</td>\n",
       "      <td>['http://Patreon.com/4amshower']</td>\n",
       "      <td>['https://pbs.twimg.com/media/DvyJtWCV4AAqPLc....</td>\n",
       "      <td>0</td>\n",
       "      <td>42</td>\n",
       "      <td>166</td>\n",
       "      <td>['happy', 'cute', 'art', 'sketch', 'sketchaday...</td>\n",
       "      <td>[]</td>\n",
       "      <td>https://twitter.com/4AMShower/status/107988943...</td>\n",
       "      <td>False</td>\n",
       "      <td>NaN</td>\n",
       "      <td>1</td>\n",
       "      <td>https://pbs.twimg.com/media/DvyJtWCV4AAqPLc.jpg</td>\n",
       "      <td>NaN</td>\n",
       "      <td>NaN</td>\n",
       "      <td>NaN</td>\n",
       "      <td>NaN</td>\n",
       "      <td>NaN</td>\n",
       "      <td>NaN</td>\n",
       "      <td>[]</td>\n",
       "      <td>NaN</td>\n",
       "      <td>NaN</td>\n",
       "      <td>NaN</td>\n",
       "      <td>NaN</td>\n",
       "    </tr>\n",
       "    <tr>\n",
       "      <th>2</th>\n",
       "      <td>1079889364358975494</td>\n",
       "      <td>1079889364358975494</td>\n",
       "      <td>2018-12-31 23:57:42 UTC</td>\n",
       "      <td>2018-12-31</td>\n",
       "      <td>23:57:42</td>\n",
       "      <td>0</td>\n",
       "      <td>1079169575017689090</td>\n",
       "      <td>depressediniowa</td>\n",
       "      <td>DepressedThoughts</td>\n",
       "      <td>NaN</td>\n",
       "      <td>I am afraid of death.  I don't want to die.  Y...</td>\n",
       "      <td>en</td>\n",
       "      <td>[]</td>\n",
       "      <td>[]</td>\n",
       "      <td>[]</td>\n",
       "      <td>1</td>\n",
       "      <td>0</td>\n",
       "      <td>1</td>\n",
       "      <td>['depression', 'depressed', 'depressedthoughts']</td>\n",
       "      <td>[]</td>\n",
       "      <td>https://twitter.com/DepressedinIowa/status/107...</td>\n",
       "      <td>False</td>\n",
       "      <td>NaN</td>\n",
       "      <td>0</td>\n",
       "      <td>NaN</td>\n",
       "      <td>NaN</td>\n",
       "      <td>NaN</td>\n",
       "      <td>NaN</td>\n",
       "      <td>NaN</td>\n",
       "      <td>NaN</td>\n",
       "      <td>NaN</td>\n",
       "      <td>[]</td>\n",
       "      <td>NaN</td>\n",
       "      <td>NaN</td>\n",
       "      <td>NaN</td>\n",
       "      <td>NaN</td>\n",
       "    </tr>\n",
       "    <tr>\n",
       "      <th>3</th>\n",
       "      <td>1079888935457882113</td>\n",
       "      <td>1076269087943057408</td>\n",
       "      <td>2018-12-31 23:56:00 UTC</td>\n",
       "      <td>2018-12-31</td>\n",
       "      <td>23:56:00</td>\n",
       "      <td>0</td>\n",
       "      <td>19518100</td>\n",
       "      <td>mo_loves</td>\n",
       "      <td>Molly Soyck</td>\n",
       "      <td>NaN</td>\n",
       "      <td>@Sia I wish I’d known I could write about myse...</td>\n",
       "      <td>en</td>\n",
       "      <td>[]</td>\n",
       "      <td>[]</td>\n",
       "      <td>[]</td>\n",
       "      <td>0</td>\n",
       "      <td>0</td>\n",
       "      <td>0</td>\n",
       "      <td>['depression']</td>\n",
       "      <td>[]</td>\n",
       "      <td>https://twitter.com/mo_loves/status/1079888935...</td>\n",
       "      <td>False</td>\n",
       "      <td>NaN</td>\n",
       "      <td>0</td>\n",
       "      <td>NaN</td>\n",
       "      <td>NaN</td>\n",
       "      <td>NaN</td>\n",
       "      <td>NaN</td>\n",
       "      <td>NaN</td>\n",
       "      <td>NaN</td>\n",
       "      <td>NaN</td>\n",
       "      <td>[{'screen_name': 'Sia', 'name': 'sia', 'id': '...</td>\n",
       "      <td>NaN</td>\n",
       "      <td>NaN</td>\n",
       "      <td>NaN</td>\n",
       "      <td>NaN</td>\n",
       "    </tr>\n",
       "    <tr>\n",
       "      <th>4</th>\n",
       "      <td>1079888027210711040</td>\n",
       "      <td>1079888027210711040</td>\n",
       "      <td>2018-12-31 23:52:23 UTC</td>\n",
       "      <td>2018-12-31</td>\n",
       "      <td>23:52:23</td>\n",
       "      <td>0</td>\n",
       "      <td>294938518</td>\n",
       "      <td>pow7777777</td>\n",
       "      <td>POW</td>\n",
       "      <td>NaN</td>\n",
       "      <td>To anyone out there suffering with #depression...</td>\n",
       "      <td>en</td>\n",
       "      <td>[{'screen_name': 'depressionarmy', 'name': 'de...</td>\n",
       "      <td>[]</td>\n",
       "      <td>[]</td>\n",
       "      <td>0</td>\n",
       "      <td>0</td>\n",
       "      <td>0</td>\n",
       "      <td>['depression', 'anxiety', 'loneliness']</td>\n",
       "      <td>[]</td>\n",
       "      <td>https://twitter.com/Pow7777777/status/10798880...</td>\n",
       "      <td>False</td>\n",
       "      <td>NaN</td>\n",
       "      <td>0</td>\n",
       "      <td>NaN</td>\n",
       "      <td>NaN</td>\n",
       "      <td>NaN</td>\n",
       "      <td>NaN</td>\n",
       "      <td>NaN</td>\n",
       "      <td>NaN</td>\n",
       "      <td>NaN</td>\n",
       "      <td>[]</td>\n",
       "      <td>NaN</td>\n",
       "      <td>NaN</td>\n",
       "      <td>NaN</td>\n",
       "      <td>NaN</td>\n",
       "    </tr>\n",
       "  </tbody>\n",
       "</table>\n",
       "</div>"
      ],
      "text/plain": [
       "                    id      conversation_id  ... trans_src trans_dest\n",
       "0  1079889496664145921  1079889496664145921  ...       NaN        NaN\n",
       "1  1079889431719493634  1079889431719493634  ...       NaN        NaN\n",
       "2  1079889364358975494  1079889364358975494  ...       NaN        NaN\n",
       "3  1079888935457882113  1076269087943057408  ...       NaN        NaN\n",
       "4  1079888027210711040  1079888027210711040  ...       NaN        NaN\n",
       "\n",
       "[5 rows x 36 columns]"
      ]
     },
     "execution_count": 27,
     "metadata": {
      "tags": []
     },
     "output_type": "execute_result"
    }
   ],
   "source": [
    "depressed_tweets.head()"
   ]
  },
  {
   "cell_type": "code",
   "execution_count": null,
   "metadata": {
    "id": "ADTapIWuJ5LZ"
   },
   "outputs": [],
   "source": [
    "non_depressed_tweets = pd.concat([tweets_non_depressed_19, tweets_non_depressed_20])"
   ]
  },
  {
   "cell_type": "code",
   "execution_count": null,
   "metadata": {
    "colab": {
     "base_uri": "https://localhost:8080/",
     "height": 492
    },
    "id": "XQd7fYW2KRxP",
    "outputId": "6519eb95-b693-4f23-9bcb-7e28857d570f"
   },
   "outputs": [
    {
     "data": {
      "text/html": [
       "<div>\n",
       "<style scoped>\n",
       "    .dataframe tbody tr th:only-of-type {\n",
       "        vertical-align: middle;\n",
       "    }\n",
       "\n",
       "    .dataframe tbody tr th {\n",
       "        vertical-align: top;\n",
       "    }\n",
       "\n",
       "    .dataframe thead th {\n",
       "        text-align: right;\n",
       "    }\n",
       "</style>\n",
       "<table border=\"1\" class=\"dataframe\">\n",
       "  <thead>\n",
       "    <tr style=\"text-align: right;\">\n",
       "      <th></th>\n",
       "      <th>id</th>\n",
       "      <th>conversation_id</th>\n",
       "      <th>created_at</th>\n",
       "      <th>date</th>\n",
       "      <th>time</th>\n",
       "      <th>timezone</th>\n",
       "      <th>user_id</th>\n",
       "      <th>username</th>\n",
       "      <th>name</th>\n",
       "      <th>place</th>\n",
       "      <th>tweet</th>\n",
       "      <th>language</th>\n",
       "      <th>mentions</th>\n",
       "      <th>urls</th>\n",
       "      <th>photos</th>\n",
       "      <th>replies_count</th>\n",
       "      <th>retweets_count</th>\n",
       "      <th>likes_count</th>\n",
       "      <th>hashtags</th>\n",
       "      <th>cashtags</th>\n",
       "      <th>link</th>\n",
       "      <th>retweet</th>\n",
       "      <th>quote_url</th>\n",
       "      <th>video</th>\n",
       "      <th>thumbnail</th>\n",
       "      <th>near</th>\n",
       "      <th>geo</th>\n",
       "      <th>source</th>\n",
       "      <th>user_rt_id</th>\n",
       "      <th>user_rt</th>\n",
       "      <th>retweet_id</th>\n",
       "      <th>reply_to</th>\n",
       "      <th>retweet_date</th>\n",
       "      <th>translate</th>\n",
       "      <th>trans_src</th>\n",
       "      <th>trans_dest</th>\n",
       "    </tr>\n",
       "  </thead>\n",
       "  <tbody>\n",
       "    <tr>\n",
       "      <th>0</th>\n",
       "      <td>1212161273196093440</td>\n",
       "      <td>1212161273196093440</td>\n",
       "      <td>2019-12-31 23:59:03 UTC</td>\n",
       "      <td>2019-12-31</td>\n",
       "      <td>23:59:03</td>\n",
       "      <td>0</td>\n",
       "      <td>928327601114017792</td>\n",
       "      <td>bubblbook</td>\n",
       "      <td>Bubblbook</td>\n",
       "      <td>NaN</td>\n",
       "      <td>Wishing you all a Happy New Year from Bubblboo...</td>\n",
       "      <td>en</td>\n",
       "      <td>[]</td>\n",
       "      <td>[]</td>\n",
       "      <td>['https://pbs.twimg.com/media/ENJ2QQNWoAADuCH....</td>\n",
       "      <td>0</td>\n",
       "      <td>0</td>\n",
       "      <td>0</td>\n",
       "      <td>['newyear', 'partytime', 'celebrations', 'love...</td>\n",
       "      <td>[]</td>\n",
       "      <td>https://twitter.com/bubblbook/status/121216127...</td>\n",
       "      <td>False</td>\n",
       "      <td>NaN</td>\n",
       "      <td>1</td>\n",
       "      <td>https://pbs.twimg.com/media/ENJ2QQNWoAADuCH.jpg</td>\n",
       "      <td>NaN</td>\n",
       "      <td>NaN</td>\n",
       "      <td>NaN</td>\n",
       "      <td>NaN</td>\n",
       "      <td>NaN</td>\n",
       "      <td>NaN</td>\n",
       "      <td>[]</td>\n",
       "      <td>NaN</td>\n",
       "      <td>NaN</td>\n",
       "      <td>NaN</td>\n",
       "      <td>NaN</td>\n",
       "    </tr>\n",
       "    <tr>\n",
       "      <th>1</th>\n",
       "      <td>1212161021764407297</td>\n",
       "      <td>1212161021764407297</td>\n",
       "      <td>2019-12-31 23:58:03 UTC</td>\n",
       "      <td>2019-12-31</td>\n",
       "      <td>23:58:03</td>\n",
       "      <td>0</td>\n",
       "      <td>35469477</td>\n",
       "      <td>jayjbotes</td>\n",
       "      <td>JAY J BOTES🎙</td>\n",
       "      <td>NaN</td>\n",
       "      <td>HAPPY NEW YEAR!!! Have a Blessed 2020🎉 #PutGOD...</td>\n",
       "      <td>en</td>\n",
       "      <td>[]</td>\n",
       "      <td>[]</td>\n",
       "      <td>['https://pbs.twimg.com/media/ENJ2BNHWkAAJU1W....</td>\n",
       "      <td>0</td>\n",
       "      <td>1</td>\n",
       "      <td>23</td>\n",
       "      <td>['putgodfirst', 'gratitude', 'love', 'peace', ...</td>\n",
       "      <td>[]</td>\n",
       "      <td>https://twitter.com/jayjbotes/status/121216102...</td>\n",
       "      <td>False</td>\n",
       "      <td>NaN</td>\n",
       "      <td>1</td>\n",
       "      <td>https://pbs.twimg.com/media/ENJ2BNHWkAAJU1W.jpg</td>\n",
       "      <td>NaN</td>\n",
       "      <td>NaN</td>\n",
       "      <td>NaN</td>\n",
       "      <td>NaN</td>\n",
       "      <td>NaN</td>\n",
       "      <td>NaN</td>\n",
       "      <td>[]</td>\n",
       "      <td>NaN</td>\n",
       "      <td>NaN</td>\n",
       "      <td>NaN</td>\n",
       "      <td>NaN</td>\n",
       "    </tr>\n",
       "    <tr>\n",
       "      <th>2</th>\n",
       "      <td>1212160644247633920</td>\n",
       "      <td>1212160644247633920</td>\n",
       "      <td>2019-12-31 23:56:33 UTC</td>\n",
       "      <td>2019-12-31</td>\n",
       "      <td>23:56:33</td>\n",
       "      <td>0</td>\n",
       "      <td>60953974</td>\n",
       "      <td>hankwh</td>\n",
       "      <td>Hank Hryniewicz</td>\n",
       "      <td>{'type': 'Point', 'coordinates': [42.2834, -71...</td>\n",
       "      <td>Christmas Shenanigans at Dad’s place with all ...</td>\n",
       "      <td>en</td>\n",
       "      <td>[]</td>\n",
       "      <td>['https://www.instagram.com/p/B6wYs2AATxn53A5k...</td>\n",
       "      <td>[]</td>\n",
       "      <td>0</td>\n",
       "      <td>0</td>\n",
       "      <td>2</td>\n",
       "      <td>['love', 'family', 'joy']</td>\n",
       "      <td>[]</td>\n",
       "      <td>https://twitter.com/HankWH/status/121216064424...</td>\n",
       "      <td>False</td>\n",
       "      <td>NaN</td>\n",
       "      <td>0</td>\n",
       "      <td>NaN</td>\n",
       "      <td>NaN</td>\n",
       "      <td>NaN</td>\n",
       "      <td>NaN</td>\n",
       "      <td>NaN</td>\n",
       "      <td>NaN</td>\n",
       "      <td>NaN</td>\n",
       "      <td>[]</td>\n",
       "      <td>NaN</td>\n",
       "      <td>NaN</td>\n",
       "      <td>NaN</td>\n",
       "      <td>NaN</td>\n",
       "    </tr>\n",
       "    <tr>\n",
       "      <th>3</th>\n",
       "      <td>1212160454262493190</td>\n",
       "      <td>1212160454262493190</td>\n",
       "      <td>2019-12-31 23:55:47 UTC</td>\n",
       "      <td>2019-12-31</td>\n",
       "      <td>23:55:47</td>\n",
       "      <td>0</td>\n",
       "      <td>2858779672</td>\n",
       "      <td>carolineraby</td>\n",
       "      <td>Caroline</td>\n",
       "      <td>NaN</td>\n",
       "      <td>#BonneAnnee #HappyNewYear to my old &amp;amp; new ...</td>\n",
       "      <td>en</td>\n",
       "      <td>[]</td>\n",
       "      <td>[]</td>\n",
       "      <td>['https://pbs.twimg.com/media/ENJ1MePWwAAW90t....</td>\n",
       "      <td>1</td>\n",
       "      <td>1</td>\n",
       "      <td>13</td>\n",
       "      <td>['bonneannee', 'happynewyear', 'joy', 'happine...</td>\n",
       "      <td>[]</td>\n",
       "      <td>https://twitter.com/CarolineRaby/status/121216...</td>\n",
       "      <td>False</td>\n",
       "      <td>NaN</td>\n",
       "      <td>1</td>\n",
       "      <td>https://pbs.twimg.com/media/ENJ1MePWwAAW90t.jpg</td>\n",
       "      <td>NaN</td>\n",
       "      <td>NaN</td>\n",
       "      <td>NaN</td>\n",
       "      <td>NaN</td>\n",
       "      <td>NaN</td>\n",
       "      <td>NaN</td>\n",
       "      <td>[]</td>\n",
       "      <td>NaN</td>\n",
       "      <td>NaN</td>\n",
       "      <td>NaN</td>\n",
       "      <td>NaN</td>\n",
       "    </tr>\n",
       "    <tr>\n",
       "      <th>4</th>\n",
       "      <td>1212160351413903362</td>\n",
       "      <td>1212160351413903362</td>\n",
       "      <td>2019-12-31 23:55:23 UTC</td>\n",
       "      <td>2019-12-31</td>\n",
       "      <td>23:55:23</td>\n",
       "      <td>0</td>\n",
       "      <td>222936793</td>\n",
       "      <td>myira_khan</td>\n",
       "      <td>MyiraKhanCounselling</td>\n",
       "      <td>NaN</td>\n",
       "      <td>Happy New Year! Wishing you an amazing, awesom...</td>\n",
       "      <td>en</td>\n",
       "      <td>[]</td>\n",
       "      <td>[]</td>\n",
       "      <td>[]</td>\n",
       "      <td>1</td>\n",
       "      <td>0</td>\n",
       "      <td>20</td>\n",
       "      <td>['happynewyear', 'wellness', 'joy', '2020goals']</td>\n",
       "      <td>[]</td>\n",
       "      <td>https://twitter.com/Myira_Khan/status/12121603...</td>\n",
       "      <td>False</td>\n",
       "      <td>NaN</td>\n",
       "      <td>1</td>\n",
       "      <td>https://pbs.twimg.com/ext_tw_video_thumb/12121...</td>\n",
       "      <td>NaN</td>\n",
       "      <td>NaN</td>\n",
       "      <td>NaN</td>\n",
       "      <td>NaN</td>\n",
       "      <td>NaN</td>\n",
       "      <td>NaN</td>\n",
       "      <td>[]</td>\n",
       "      <td>NaN</td>\n",
       "      <td>NaN</td>\n",
       "      <td>NaN</td>\n",
       "      <td>NaN</td>\n",
       "    </tr>\n",
       "  </tbody>\n",
       "</table>\n",
       "</div>"
      ],
      "text/plain": [
       "                    id      conversation_id  ... trans_src trans_dest\n",
       "0  1212161273196093440  1212161273196093440  ...       NaN        NaN\n",
       "1  1212161021764407297  1212161021764407297  ...       NaN        NaN\n",
       "2  1212160644247633920  1212160644247633920  ...       NaN        NaN\n",
       "3  1212160454262493190  1212160454262493190  ...       NaN        NaN\n",
       "4  1212160351413903362  1212160351413903362  ...       NaN        NaN\n",
       "\n",
       "[5 rows x 36 columns]"
      ]
     },
     "execution_count": 29,
     "metadata": {
      "tags": []
     },
     "output_type": "execute_result"
    }
   ],
   "source": [
    "non_depressed_tweets.head()"
   ]
  },
  {
   "cell_type": "code",
   "execution_count": null,
   "metadata": {
    "colab": {
     "base_uri": "https://localhost:8080/"
    },
    "id": "RVQveuU3KTdi",
    "outputId": "5a9a75e9-5d66-43e6-9462-0f5a4fdcb1a9"
   },
   "outputs": [
    {
     "data": {
      "text/plain": [
       "True"
      ]
     },
     "execution_count": 30,
     "metadata": {
      "tags": []
     },
     "output_type": "execute_result"
    }
   ],
   "source": [
    "non_depressed_19_tweets.equals(non_depressed_20_tweets)"
   ]
  },
  {
   "cell_type": "code",
   "execution_count": null,
   "metadata": {
    "colab": {
     "base_uri": "https://localhost:8080/"
    },
    "id": "cvcv7TRtKZBB",
    "outputId": "e10fef26-3b27-4677-df87-235ea8b4fab3"
   },
   "outputs": [
    {
     "data": {
      "text/plain": [
       "24541"
      ]
     },
     "execution_count": 31,
     "metadata": {
      "tags": []
     },
     "output_type": "execute_result"
    }
   ],
   "source": [
    "len(depressed_tweets)"
   ]
  },
  {
   "cell_type": "code",
   "execution_count": null,
   "metadata": {
    "colab": {
     "base_uri": "https://localhost:8080/"
    },
    "id": "_uBOPYlpKcQ_",
    "outputId": "07d9233c-b584-4492-e29d-912848ecf785"
   },
   "outputs": [
    {
     "data": {
      "text/plain": [
       "21355"
      ]
     },
     "execution_count": 32,
     "metadata": {
      "tags": []
     },
     "output_type": "execute_result"
    }
   ],
   "source": [
    "len(non_depressed_tweets)"
   ]
  },
  {
   "cell_type": "code",
   "execution_count": null,
   "metadata": {
    "id": "YsOb3tUiKeBl"
   },
   "outputs": [],
   "source": [
    "depressed_tweets.to_csv(\"/content/gdrive/My Drive/data/depressed_tweets.csv\")"
   ]
  },
  {
   "cell_type": "code",
   "execution_count": null,
   "metadata": {
    "colab": {
     "base_uri": "https://localhost:8080/"
    },
    "id": "velo19zDKr9q",
    "outputId": "fa2cfa33-98c7-4c07-ab4f-98d83f2b031f"
   },
   "outputs": [
    {
     "data": {
      "text/plain": [
       "14179"
      ]
     },
     "execution_count": 35,
     "metadata": {
      "tags": []
     },
     "output_type": "execute_result"
    }
   ],
   "source": [
    "non_depressed_tweets.drop_duplicates(inplace=True)\n",
    "len(non_depressed_tweets)"
   ]
  },
  {
   "cell_type": "code",
   "execution_count": null,
   "metadata": {
    "id": "UEekPDRsK-L8"
   },
   "outputs": [],
   "source": [
    "non_depressed_tweets.to_csv(\"/content/gdrive/My Drive/data/non_depressed_tweets.csv\")"
   ]
  },
  {
   "cell_type": "code",
   "execution_count": null,
   "metadata": {
    "id": "KbkyPC_wLD8m"
   },
   "outputs": [],
   "source": []
  }
 ],
 "metadata": {
  "colab": {
   "collapsed_sections": [],
   "name": "Data_Collection.ipynb",
   "provenance": []
  },
  "kernelspec": {
   "display_name": "Python 3",
   "language": "python",
   "name": "python3"
  },
  "language_info": {
   "codemirror_mode": {
    "name": "ipython",
    "version": 3
   },
   "file_extension": ".py",
   "mimetype": "text/x-python",
   "name": "python",
   "nbconvert_exporter": "python",
   "pygments_lexer": "ipython3",
   "version": "3.8.0"
  }
 },
 "nbformat": 4,
 "nbformat_minor": 1
}
