{
 "cells": [
  {
   "cell_type": "code",
   "execution_count": 1,
   "id": "800544ae",
   "metadata": {},
   "outputs": [],
   "source": [
    "import pandas as pd\n",
    "import numpy as np"
   ]
  },
  {
   "cell_type": "code",
   "execution_count": 2,
   "id": "961ec528",
   "metadata": {},
   "outputs": [],
   "source": [
    "depressed_tweets = \"./depressed_tweets.csv\"\n",
    "non_depressed_tweets = \"./non_depressed_tweets.csv\""
   ]
  },
  {
   "cell_type": "code",
   "execution_count": 3,
   "id": "c4af293c",
   "metadata": {},
   "outputs": [],
   "source": [
    "dep = pd.read_csv(depressed_tweets)\n",
    "ndep = pd.read_csv(non_depressed_tweets)"
   ]
  },
  {
   "cell_type": "code",
   "execution_count": 4,
   "id": "be199924",
   "metadata": {},
   "outputs": [
    {
     "data": {
      "text/html": [
       "<div>\n",
       "<style scoped>\n",
       "    .dataframe tbody tr th:only-of-type {\n",
       "        vertical-align: middle;\n",
       "    }\n",
       "\n",
       "    .dataframe tbody tr th {\n",
       "        vertical-align: top;\n",
       "    }\n",
       "\n",
       "    .dataframe thead th {\n",
       "        text-align: right;\n",
       "    }\n",
       "</style>\n",
       "<table border=\"1\" class=\"dataframe\">\n",
       "  <thead>\n",
       "    <tr style=\"text-align: right;\">\n",
       "      <th></th>\n",
       "      <th>Unnamed: 0</th>\n",
       "      <th>id</th>\n",
       "      <th>conversation_id</th>\n",
       "      <th>created_at</th>\n",
       "      <th>date</th>\n",
       "      <th>time</th>\n",
       "      <th>timezone</th>\n",
       "      <th>user_id</th>\n",
       "      <th>username</th>\n",
       "      <th>name</th>\n",
       "      <th>...</th>\n",
       "      <th>geo</th>\n",
       "      <th>source</th>\n",
       "      <th>user_rt_id</th>\n",
       "      <th>user_rt</th>\n",
       "      <th>retweet_id</th>\n",
       "      <th>reply_to</th>\n",
       "      <th>retweet_date</th>\n",
       "      <th>translate</th>\n",
       "      <th>trans_src</th>\n",
       "      <th>trans_dest</th>\n",
       "    </tr>\n",
       "  </thead>\n",
       "  <tbody>\n",
       "    <tr>\n",
       "      <th>0</th>\n",
       "      <td>0</td>\n",
       "      <td>1079889496664145921</td>\n",
       "      <td>1079889496664145921</td>\n",
       "      <td>2018-12-31 23:58:14 UTC</td>\n",
       "      <td>2018-12-31</td>\n",
       "      <td>23:58:14</td>\n",
       "      <td>0.0</td>\n",
       "      <td>1.016398e+18</td>\n",
       "      <td>shady2405</td>\n",
       "      <td>On the Borderline between Emotional 😭 &amp; Stable 😊</td>\n",
       "      <td>...</td>\n",
       "      <td>NaN</td>\n",
       "      <td>NaN</td>\n",
       "      <td>NaN</td>\n",
       "      <td>NaN</td>\n",
       "      <td>NaN</td>\n",
       "      <td>[]</td>\n",
       "      <td>NaN</td>\n",
       "      <td>NaN</td>\n",
       "      <td>NaN</td>\n",
       "      <td>NaN</td>\n",
       "    </tr>\n",
       "    <tr>\n",
       "      <th>1</th>\n",
       "      <td>1</td>\n",
       "      <td>1079889431719493634</td>\n",
       "      <td>1079889431719493634</td>\n",
       "      <td>2018-12-31 23:57:58 UTC</td>\n",
       "      <td>2018-12-31</td>\n",
       "      <td>23:57:58</td>\n",
       "      <td>0.0</td>\n",
       "      <td>4.104933e+08</td>\n",
       "      <td>4amshower</td>\n",
       "      <td>4amShower by Guy Kopsombut</td>\n",
       "      <td>...</td>\n",
       "      <td>NaN</td>\n",
       "      <td>NaN</td>\n",
       "      <td>NaN</td>\n",
       "      <td>NaN</td>\n",
       "      <td>NaN</td>\n",
       "      <td>[]</td>\n",
       "      <td>NaN</td>\n",
       "      <td>NaN</td>\n",
       "      <td>NaN</td>\n",
       "      <td>NaN</td>\n",
       "    </tr>\n",
       "    <tr>\n",
       "      <th>2</th>\n",
       "      <td>2</td>\n",
       "      <td>1079889364358975494</td>\n",
       "      <td>1079889364358975494</td>\n",
       "      <td>2018-12-31 23:57:42 UTC</td>\n",
       "      <td>2018-12-31</td>\n",
       "      <td>23:57:42</td>\n",
       "      <td>0.0</td>\n",
       "      <td>1.079170e+18</td>\n",
       "      <td>depressediniowa</td>\n",
       "      <td>DepressedThoughts</td>\n",
       "      <td>...</td>\n",
       "      <td>NaN</td>\n",
       "      <td>NaN</td>\n",
       "      <td>NaN</td>\n",
       "      <td>NaN</td>\n",
       "      <td>NaN</td>\n",
       "      <td>[]</td>\n",
       "      <td>NaN</td>\n",
       "      <td>NaN</td>\n",
       "      <td>NaN</td>\n",
       "      <td>NaN</td>\n",
       "    </tr>\n",
       "    <tr>\n",
       "      <th>3</th>\n",
       "      <td>3</td>\n",
       "      <td>1079888935457882113</td>\n",
       "      <td>1076269087943057408</td>\n",
       "      <td>2018-12-31 23:56:00 UTC</td>\n",
       "      <td>2018-12-31</td>\n",
       "      <td>23:56:00</td>\n",
       "      <td>0.0</td>\n",
       "      <td>1.951810e+07</td>\n",
       "      <td>mo_loves</td>\n",
       "      <td>Molly Soyck</td>\n",
       "      <td>...</td>\n",
       "      <td>NaN</td>\n",
       "      <td>NaN</td>\n",
       "      <td>NaN</td>\n",
       "      <td>NaN</td>\n",
       "      <td>NaN</td>\n",
       "      <td>[{'screen_name': 'Sia', 'name': 'sia', 'id': '...</td>\n",
       "      <td>NaN</td>\n",
       "      <td>NaN</td>\n",
       "      <td>NaN</td>\n",
       "      <td>NaN</td>\n",
       "    </tr>\n",
       "    <tr>\n",
       "      <th>4</th>\n",
       "      <td>4</td>\n",
       "      <td>1079888027210711040</td>\n",
       "      <td>1079888027210711040</td>\n",
       "      <td>2018-12-31 23:52:23 UTC</td>\n",
       "      <td>2018-12-31</td>\n",
       "      <td>23:52:23</td>\n",
       "      <td>0.0</td>\n",
       "      <td>2.949385e+08</td>\n",
       "      <td>pow7777777</td>\n",
       "      <td>POW</td>\n",
       "      <td>...</td>\n",
       "      <td>NaN</td>\n",
       "      <td>NaN</td>\n",
       "      <td>NaN</td>\n",
       "      <td>NaN</td>\n",
       "      <td>NaN</td>\n",
       "      <td>[]</td>\n",
       "      <td>NaN</td>\n",
       "      <td>NaN</td>\n",
       "      <td>NaN</td>\n",
       "      <td>NaN</td>\n",
       "    </tr>\n",
       "  </tbody>\n",
       "</table>\n",
       "<p>5 rows × 37 columns</p>\n",
       "</div>"
      ],
      "text/plain": [
       "  Unnamed: 0                   id      conversation_id  \\\n",
       "0          0  1079889496664145921  1079889496664145921   \n",
       "1          1  1079889431719493634  1079889431719493634   \n",
       "2          2  1079889364358975494  1079889364358975494   \n",
       "3          3  1079888935457882113  1076269087943057408   \n",
       "4          4  1079888027210711040  1079888027210711040   \n",
       "\n",
       "                created_at        date      time  timezone       user_id  \\\n",
       "0  2018-12-31 23:58:14 UTC  2018-12-31  23:58:14       0.0  1.016398e+18   \n",
       "1  2018-12-31 23:57:58 UTC  2018-12-31  23:57:58       0.0  4.104933e+08   \n",
       "2  2018-12-31 23:57:42 UTC  2018-12-31  23:57:42       0.0  1.079170e+18   \n",
       "3  2018-12-31 23:56:00 UTC  2018-12-31  23:56:00       0.0  1.951810e+07   \n",
       "4  2018-12-31 23:52:23 UTC  2018-12-31  23:52:23       0.0  2.949385e+08   \n",
       "\n",
       "          username                                              name  ... geo  \\\n",
       "0        shady2405  On the Borderline between Emotional 😭 & Stable 😊  ... NaN   \n",
       "1        4amshower                        4amShower by Guy Kopsombut  ... NaN   \n",
       "2  depressediniowa                                 DepressedThoughts  ... NaN   \n",
       "3         mo_loves                                       Molly Soyck  ... NaN   \n",
       "4       pow7777777                                               POW  ... NaN   \n",
       "\n",
       "  source user_rt_id user_rt retweet_id  \\\n",
       "0    NaN        NaN     NaN        NaN   \n",
       "1    NaN        NaN     NaN        NaN   \n",
       "2    NaN        NaN     NaN        NaN   \n",
       "3    NaN        NaN     NaN        NaN   \n",
       "4    NaN        NaN     NaN        NaN   \n",
       "\n",
       "                                            reply_to  retweet_date  translate  \\\n",
       "0                                                 []           NaN        NaN   \n",
       "1                                                 []           NaN        NaN   \n",
       "2                                                 []           NaN        NaN   \n",
       "3  [{'screen_name': 'Sia', 'name': 'sia', 'id': '...           NaN        NaN   \n",
       "4                                                 []           NaN        NaN   \n",
       "\n",
       "   trans_src trans_dest  \n",
       "0        NaN        NaN  \n",
       "1        NaN        NaN  \n",
       "2        NaN        NaN  \n",
       "3        NaN        NaN  \n",
       "4        NaN        NaN  \n",
       "\n",
       "[5 rows x 37 columns]"
      ]
     },
     "execution_count": 4,
     "metadata": {},
     "output_type": "execute_result"
    }
   ],
   "source": [
    "dep.head()"
   ]
  },
  {
   "cell_type": "code",
   "execution_count": 5,
   "id": "e193a13a",
   "metadata": {},
   "outputs": [
    {
     "data": {
      "text/html": [
       "<div>\n",
       "<style scoped>\n",
       "    .dataframe tbody tr th:only-of-type {\n",
       "        vertical-align: middle;\n",
       "    }\n",
       "\n",
       "    .dataframe tbody tr th {\n",
       "        vertical-align: top;\n",
       "    }\n",
       "\n",
       "    .dataframe thead th {\n",
       "        text-align: right;\n",
       "    }\n",
       "</style>\n",
       "<table border=\"1\" class=\"dataframe\">\n",
       "  <thead>\n",
       "    <tr style=\"text-align: right;\">\n",
       "      <th></th>\n",
       "      <th>Unnamed: 0</th>\n",
       "      <th>id</th>\n",
       "      <th>conversation_id</th>\n",
       "      <th>created_at</th>\n",
       "      <th>date</th>\n",
       "      <th>time</th>\n",
       "      <th>timezone</th>\n",
       "      <th>user_id</th>\n",
       "      <th>username</th>\n",
       "      <th>name</th>\n",
       "      <th>...</th>\n",
       "      <th>geo</th>\n",
       "      <th>source</th>\n",
       "      <th>user_rt_id</th>\n",
       "      <th>user_rt</th>\n",
       "      <th>retweet_id</th>\n",
       "      <th>reply_to</th>\n",
       "      <th>retweet_date</th>\n",
       "      <th>translate</th>\n",
       "      <th>trans_src</th>\n",
       "      <th>trans_dest</th>\n",
       "    </tr>\n",
       "  </thead>\n",
       "  <tbody>\n",
       "    <tr>\n",
       "      <th>0</th>\n",
       "      <td>0</td>\n",
       "      <td>1212161273196093440</td>\n",
       "      <td>1212161273196093440</td>\n",
       "      <td>2019-12-31 23:59:03 UTC</td>\n",
       "      <td>2019-12-31</td>\n",
       "      <td>23:59:03</td>\n",
       "      <td>0</td>\n",
       "      <td>9.283276e+17</td>\n",
       "      <td>bubblbook</td>\n",
       "      <td>Bubblbook</td>\n",
       "      <td>...</td>\n",
       "      <td>NaN</td>\n",
       "      <td>NaN</td>\n",
       "      <td>NaN</td>\n",
       "      <td>NaN</td>\n",
       "      <td>NaN</td>\n",
       "      <td>[]</td>\n",
       "      <td>NaN</td>\n",
       "      <td>NaN</td>\n",
       "      <td>NaN</td>\n",
       "      <td>NaN</td>\n",
       "    </tr>\n",
       "    <tr>\n",
       "      <th>1</th>\n",
       "      <td>1</td>\n",
       "      <td>1212161021764407297</td>\n",
       "      <td>1212161021764407297</td>\n",
       "      <td>2019-12-31 23:58:03 UTC</td>\n",
       "      <td>2019-12-31</td>\n",
       "      <td>23:58:03</td>\n",
       "      <td>0</td>\n",
       "      <td>3.546948e+07</td>\n",
       "      <td>jayjbotes</td>\n",
       "      <td>JAY J BOTES🎙</td>\n",
       "      <td>...</td>\n",
       "      <td>NaN</td>\n",
       "      <td>NaN</td>\n",
       "      <td>NaN</td>\n",
       "      <td>NaN</td>\n",
       "      <td>NaN</td>\n",
       "      <td>[]</td>\n",
       "      <td>NaN</td>\n",
       "      <td>NaN</td>\n",
       "      <td>NaN</td>\n",
       "      <td>NaN</td>\n",
       "    </tr>\n",
       "    <tr>\n",
       "      <th>2</th>\n",
       "      <td>2</td>\n",
       "      <td>1212160644247633920</td>\n",
       "      <td>1212160644247633920</td>\n",
       "      <td>2019-12-31 23:56:33 UTC</td>\n",
       "      <td>2019-12-31</td>\n",
       "      <td>23:56:33</td>\n",
       "      <td>0</td>\n",
       "      <td>6.095397e+07</td>\n",
       "      <td>hankwh</td>\n",
       "      <td>Hank Hryniewicz</td>\n",
       "      <td>...</td>\n",
       "      <td>NaN</td>\n",
       "      <td>NaN</td>\n",
       "      <td>NaN</td>\n",
       "      <td>NaN</td>\n",
       "      <td>NaN</td>\n",
       "      <td>[]</td>\n",
       "      <td>NaN</td>\n",
       "      <td>NaN</td>\n",
       "      <td>NaN</td>\n",
       "      <td>NaN</td>\n",
       "    </tr>\n",
       "    <tr>\n",
       "      <th>3</th>\n",
       "      <td>3</td>\n",
       "      <td>1212160454262493190</td>\n",
       "      <td>1212160454262493190</td>\n",
       "      <td>2019-12-31 23:55:47 UTC</td>\n",
       "      <td>2019-12-31</td>\n",
       "      <td>23:55:47</td>\n",
       "      <td>0</td>\n",
       "      <td>2.858780e+09</td>\n",
       "      <td>carolineraby</td>\n",
       "      <td>Caroline</td>\n",
       "      <td>...</td>\n",
       "      <td>NaN</td>\n",
       "      <td>NaN</td>\n",
       "      <td>NaN</td>\n",
       "      <td>NaN</td>\n",
       "      <td>NaN</td>\n",
       "      <td>[]</td>\n",
       "      <td>NaN</td>\n",
       "      <td>NaN</td>\n",
       "      <td>NaN</td>\n",
       "      <td>NaN</td>\n",
       "    </tr>\n",
       "    <tr>\n",
       "      <th>4</th>\n",
       "      <td>4</td>\n",
       "      <td>1212160351413903362</td>\n",
       "      <td>1212160351413903362</td>\n",
       "      <td>2019-12-31 23:55:23 UTC</td>\n",
       "      <td>2019-12-31</td>\n",
       "      <td>23:55:23</td>\n",
       "      <td>0</td>\n",
       "      <td>2.229368e+08</td>\n",
       "      <td>myira_khan</td>\n",
       "      <td>MyiraKhanCounselling</td>\n",
       "      <td>...</td>\n",
       "      <td>NaN</td>\n",
       "      <td>NaN</td>\n",
       "      <td>NaN</td>\n",
       "      <td>NaN</td>\n",
       "      <td>NaN</td>\n",
       "      <td>[]</td>\n",
       "      <td>NaN</td>\n",
       "      <td>NaN</td>\n",
       "      <td>NaN</td>\n",
       "      <td>NaN</td>\n",
       "    </tr>\n",
       "  </tbody>\n",
       "</table>\n",
       "<p>5 rows × 37 columns</p>\n",
       "</div>"
      ],
      "text/plain": [
       "  Unnamed: 0                   id      conversation_id  \\\n",
       "0          0  1212161273196093440  1212161273196093440   \n",
       "1          1  1212161021764407297  1212161021764407297   \n",
       "2          2  1212160644247633920  1212160644247633920   \n",
       "3          3  1212160454262493190  1212160454262493190   \n",
       "4          4  1212160351413903362  1212160351413903362   \n",
       "\n",
       "                created_at        date      time  timezone       user_id  \\\n",
       "0  2019-12-31 23:59:03 UTC  2019-12-31  23:59:03         0  9.283276e+17   \n",
       "1  2019-12-31 23:58:03 UTC  2019-12-31  23:58:03         0  3.546948e+07   \n",
       "2  2019-12-31 23:56:33 UTC  2019-12-31  23:56:33         0  6.095397e+07   \n",
       "3  2019-12-31 23:55:47 UTC  2019-12-31  23:55:47         0  2.858780e+09   \n",
       "4  2019-12-31 23:55:23 UTC  2019-12-31  23:55:23         0  2.229368e+08   \n",
       "\n",
       "       username                  name  ... geo source user_rt_id user_rt  \\\n",
       "0     bubblbook             Bubblbook  ... NaN    NaN        NaN     NaN   \n",
       "1     jayjbotes          JAY J BOTES🎙  ... NaN    NaN        NaN     NaN   \n",
       "2        hankwh       Hank Hryniewicz  ... NaN    NaN        NaN     NaN   \n",
       "3  carolineraby              Caroline  ... NaN    NaN        NaN     NaN   \n",
       "4    myira_khan  MyiraKhanCounselling  ... NaN    NaN        NaN     NaN   \n",
       "\n",
       "  retweet_id reply_to  retweet_date  translate  trans_src trans_dest  \n",
       "0        NaN       []           NaN        NaN        NaN        NaN  \n",
       "1        NaN       []           NaN        NaN        NaN        NaN  \n",
       "2        NaN       []           NaN        NaN        NaN        NaN  \n",
       "3        NaN       []           NaN        NaN        NaN        NaN  \n",
       "4        NaN       []           NaN        NaN        NaN        NaN  \n",
       "\n",
       "[5 rows x 37 columns]"
      ]
     },
     "execution_count": 5,
     "metadata": {},
     "output_type": "execute_result"
    }
   ],
   "source": [
    "ndep.head()"
   ]
  },
  {
   "cell_type": "code",
   "execution_count": 6,
   "id": "7b5be1c8",
   "metadata": {},
   "outputs": [
    {
     "name": "stdout",
     "output_type": "stream",
     "text": [
      "24549 14180\n"
     ]
    }
   ],
   "source": [
    "print(len(dep), len(ndep))"
   ]
  },
  {
   "cell_type": "code",
   "execution_count": 7,
   "id": "8e107584",
   "metadata": {},
   "outputs": [
    {
     "data": {
      "text/plain": [
       "['depressed']                                                                                                                                                            445\n",
       "['depression']                                                                                                                                                           386\n",
       "['antidepressants']                                                                                                                                                      326\n",
       "['happy']                                                                                                                                                                264\n",
       "['loneliness']                                                                                                                                                           216\n",
       "                                                                                                                                                                        ... \n",
       "['actor', 'posing', 'actorslife', 'negativeshade', 'anger', 'love', 'attitude', 'passion', 'bollywood', 'films', 'iamtarundatta']                                          1\n",
       "['happy', 'merrychristmas', 'feliznavidad', 'navidad', 'christmas', 'magic', 'alone', 'sad', 'boys', 'cool', 'sadness', 'lonely', 'gay', 'loneliness', 'bedifferent']      1\n",
       "['depressed', 'anxiety', 'anxious', 'scared', 'sad', 'loser', 'lonely']                                                                                                    1\n",
       "['coffee', 'delight', 'friends', 'sweet', 'flavor', 'afternoon', 'dinascorp']                                                                                              1\n",
       "['suicidal', 'flashbacks', 'panic', 'sadness', 'grief', 'guilt', 'worthlessness', 'hopelessness', 'fears', 'stress', 'trauma']                                             1\n",
       "Name: hashtags, Length: 14618, dtype: int64"
      ]
     },
     "execution_count": 7,
     "metadata": {},
     "output_type": "execute_result"
    }
   ],
   "source": [
    "dep.hashtags.value_counts()"
   ]
  },
  {
   "cell_type": "code",
   "execution_count": 8,
   "id": "d5b42ceb",
   "metadata": {},
   "outputs": [
    {
     "data": {
      "text/plain": [
       "21507"
      ]
     },
     "execution_count": 8,
     "metadata": {},
     "output_type": "execute_result"
    }
   ],
   "source": [
    "len(dep.id.value_counts())"
   ]
  },
  {
   "cell_type": "markdown",
   "id": "9f7a01ff",
   "metadata": {},
   "source": [
    "#### Drop duplicates if any"
   ]
  },
  {
   "cell_type": "code",
   "execution_count": 9,
   "id": "a9f5749e",
   "metadata": {},
   "outputs": [
    {
     "name": "stdout",
     "output_type": "stream",
     "text": [
      "21508\n",
      "(21508, 37)\n"
     ]
    }
   ],
   "source": [
    "dep = dep.drop_duplicates(subset = ['id'])\n",
    "print(len(dep))\n",
    "print(dep.shape)"
   ]
  },
  {
   "cell_type": "code",
   "execution_count": 10,
   "id": "8ae77f9f",
   "metadata": {},
   "outputs": [],
   "source": [
    "pd.set_option('display.max_colwidth', None)"
   ]
  },
  {
   "cell_type": "markdown",
   "id": "66aaf0b7",
   "metadata": {},
   "source": [
    "### Remove tweets that can be promotional messages"
   ]
  },
  {
   "cell_type": "code",
   "execution_count": 11,
   "id": "c58edee8",
   "metadata": {},
   "outputs": [],
   "source": [
    "selection_to_remove = [\"#mentalhealth\", \"#health\", \"#happiness\", \"#mentalillness\", \"#happy\", \"#joy\", \"#wellbeing\"]"
   ]
  },
  {
   "cell_type": "markdown",
   "id": "fa8e20c8",
   "metadata": {},
   "source": [
    "The hashtags are not a list. It is a string and also the column contained some floats. So remove those rows."
   ]
  },
  {
   "cell_type": "code",
   "execution_count": 13,
   "id": "dfaf6b66",
   "metadata": {},
   "outputs": [],
   "source": [
    "mask1 = dep.hashtags\n",
    "i = 0\n",
    "rows = []\n",
    "for x in mask1:\n",
    "    if isinstance(x, float):\n",
    "        rows.append(i)\n",
    "    i += 1"
   ]
  },
  {
   "cell_type": "code",
   "execution_count": 14,
   "id": "3cd6d15f",
   "metadata": {},
   "outputs": [
    {
     "data": {
      "text/plain": [
       "[312, 313, 1037, 8811, 8862, 17750, 17751]"
      ]
     },
     "execution_count": 14,
     "metadata": {},
     "output_type": "execute_result"
    }
   ],
   "source": [
    "rows"
   ]
  },
  {
   "cell_type": "code",
   "execution_count": 19,
   "id": "c663e6af",
   "metadata": {},
   "outputs": [],
   "source": [
    "df_all = dep\n",
    "df_all = df_all.drop(df_all.index[rows])"
   ]
  },
  {
   "cell_type": "code",
   "execution_count": 20,
   "id": "7c48c5a6",
   "metadata": {},
   "outputs": [
    {
     "name": "stdout",
     "output_type": "stream",
     "text": [
      "[]\n"
     ]
    }
   ],
   "source": [
    "mask1 = df_all.hashtags\n",
    "i = 0\n",
    "rows = []\n",
    "for x in mask1:\n",
    "    if isinstance(x, float):\n",
    "        rows.append(i)\n",
    "    i += 1\n",
    "\n",
    "print(rows)"
   ]
  },
  {
   "cell_type": "code",
   "execution_count": 21,
   "id": "6372fc44",
   "metadata": {},
   "outputs": [
    {
     "data": {
      "text/plain": [
       "Series([], Name: tweet, dtype: object)"
      ]
     },
     "execution_count": 21,
     "metadata": {},
     "output_type": "execute_result"
    }
   ],
   "source": [
    "mask1 = df_all.hashtags.apply(lambda x: any(item for item in selection_to_remove if item in x))\n",
    "df_all[mask1].tweet.tail()"
   ]
  },
  {
   "cell_type": "code",
   "execution_count": 22,
   "id": "2b29b369",
   "metadata": {},
   "outputs": [
    {
     "data": {
      "text/plain": [
       "0                                                               Thank you so much to Reenie87 who is another New Friend 🤗 on ❤️ Twitter! I hope you enjoy 🌈 my Tweets 😊 ⚽️ x  https://t.co/9baXRrZ2wb #Depression #Anger #MentalHealth #MHSM #EndTheStigma #KeepTalkingMH #F4FMentalHealthOnly #IWillNotLetMyMHKillMe\n",
       "1                              Happy new year! Today’s smile goal: celebrate the new year!! 🐇🐢🐕🐍 Help me become a full time artist at  https://t.co/xoU612ZiFo :)  #happy #cute #art #sketch #sketchaday #illustrations #doodle #aww #friends #funny #memes #depression #comics #love #scbwi  https://t.co/UJ8hEzeLtn\n",
       "2                                                                                                 I am afraid of death.  I don't want to die.  Yet this still does not motivate me to do things I enjoy.  Die happy, or die sad.  Either way, you die so what's the point?  #depression #depressed #depressedthoughts\n",
       "3                                                                                       @Sia I wish I’d known I could write about myself...😞 I’m always too late for everything, miss out on everything...my gahd. My life... Anyway, have a Happy New Year. Here’s to hoping next year will be better... #depression\n",
       "4                                                                        To anyone out there suffering with #depression #anxiety  or #Loneliness hang on in there, we are all waiting for the sun to come out and hopefully 2019 may be that year. Peace @depressionarmy @stay__strong___ @AnxietyUK @EndLonelinessUK\n",
       "5                               A special happy new year and hope 2019 brings some great things for you to a few special people/teams who one way or another has saved my life this year @metpoliceuk @LAS_NorthEast @BTP @JR_MitchellAFC @fayersey12 @AmyjoBland1986 @MPSBarkDag #mentalhealth #Suicidal #depression\n",
       "6                1 eye is smaller than the other. My lips so imperfect. I was so thin 20 years ago, and today I’m so into the opposite. But I love who I am.  For all us, warriors against #depression #anxiety and #ehlersdanlossyndrome For a better, healthier, blessed 2019! 🍷#Happy2019  https://t.co/7pAXGpvfgJ\n",
       "7    Our office #artstudio  #health  #stress #counseling #therapy #autism #adhd #mentalhealth #marriagecounseling #drpetemarcelo.com #depression #bipolar #mindfulness #psychologist   #Huntley #il #Dr Pete Marcelo’s Farm #Dr Pete Marcelo Psychologist and Counseling Services of Huntley  https://t.co/QWEIHexVGG\n",
       "8                                                                                                                                                                                I’m fed up.. I’ve been married to a drug and alcohol abuser for 2 ... #Psychology #Depression #Mentalhealth  https://t.co/cE4CWm0rr5\n",
       "9                                             Knowing exactly what to start off my 2019 jar with ❤💜 #greywall #Narcissist #narcissisticabuse #healing #notavictim #No contact #free #freefromabuse #DV #emotionalabuse #mentalhealth #MentalHealthAwareness #MentalHealthMatters #youngster #bpd #depression #anxiety\n",
       "Name: tweet, dtype: object"
      ]
     },
     "execution_count": 22,
     "metadata": {},
     "output_type": "execute_result"
    }
   ],
   "source": [
    "df_all[mask1==False].tweet.head(10)"
   ]
  },
  {
   "cell_type": "code",
   "execution_count": 23,
   "id": "bd7b2a47",
   "metadata": {},
   "outputs": [
    {
     "data": {
      "text/plain": [
       "21501"
      ]
     },
     "execution_count": 23,
     "metadata": {},
     "output_type": "execute_result"
    }
   ],
   "source": [
    "df_all = df_all[mask1==False]\n",
    "len (df_all)"
   ]
  },
  {
   "cell_type": "code",
   "execution_count": 24,
   "id": "a9388acd",
   "metadata": {},
   "outputs": [],
   "source": [
    "mask2 = df_all.hashtags.apply(lambda x: len(x) < 4)"
   ]
  },
  {
   "cell_type": "code",
   "execution_count": 25,
   "id": "d7400de8",
   "metadata": {},
   "outputs": [],
   "source": [
    "tdf_all = df_all[mask2]"
   ]
  },
  {
   "cell_type": "code",
   "execution_count": 26,
   "id": "d30f4d9d",
   "metadata": {},
   "outputs": [
    {
     "data": {
      "text/plain": [
       "21"
      ]
     },
     "execution_count": 26,
     "metadata": {},
     "output_type": "execute_result"
    }
   ],
   "source": [
    "len(tdf_all)"
   ]
  },
  {
   "cell_type": "code",
   "execution_count": 27,
   "id": "a14a594a",
   "metadata": {},
   "outputs": [
    {
     "name": "stdout",
     "output_type": "stream",
     "text": [
      "21480\n"
     ]
    }
   ],
   "source": [
    "rows = []\n",
    "i = 0\n",
    "for x in df_all.hashtags:\n",
    "    if len(x) >= 6:\n",
    "        rows.append(i)\n",
    "    i += 1\n",
    "\n",
    "print(len(rows))"
   ]
  },
  {
   "cell_type": "markdown",
   "id": "d6876f7b",
   "metadata": {},
   "source": [
    "#### Convert hashtags (string) into a list of tags"
   ]
  },
  {
   "cell_type": "code",
   "execution_count": 28,
   "id": "ebf78b80",
   "metadata": {},
   "outputs": [],
   "source": [
    "len(df_all)\n",
    "def convert_hashtags(tags):\n",
    "    tags = tags.split(\", \")\n",
    "    new_tags = []\n",
    "    for tag in tags:\n",
    "        new_tags.append(tag.replace(\"\\'\", \"\"))\n",
    "    return new_tags\n",
    "\n",
    "df_all[\"cleaned_hashtags\"] = df_all[\"hashtags\"].apply(lambda x : convert_hashtags(x))"
   ]
  },
  {
   "cell_type": "code",
   "execution_count": 29,
   "id": "9a5de93b",
   "metadata": {},
   "outputs": [
    {
     "data": {
      "text/plain": [
       "['[depression',\n",
       " 'anger',\n",
       " 'mentalhealth',\n",
       " 'mhsm',\n",
       " 'endthestigma',\n",
       " 'keeptalkingmh',\n",
       " 'f4fmentalhealthonly',\n",
       " 'iwillnotletmymhkillme]']"
      ]
     },
     "execution_count": 29,
     "metadata": {},
     "output_type": "execute_result"
    }
   ],
   "source": [
    "df_all.cleaned_hashtags[0]"
   ]
  },
  {
   "cell_type": "code",
   "execution_count": 30,
   "id": "4d1898c8",
   "metadata": {},
   "outputs": [
    {
     "name": "stdout",
     "output_type": "stream",
     "text": [
      "0\n"
     ]
    }
   ],
   "source": [
    "# temp = [\"mentalhealth\", \"b\"]\n",
    "# print(any(temp) in selection_to_remove)\n",
    "\n",
    "count = 0;\n",
    "for tags in df_all.cleaned_hashtags:\n",
    "    for tag in tags:\n",
    "        if tag in selection_to_remove:\n",
    "            count += 1\n",
    "            #print(\"yes\")\n",
    "            break\n",
    "print(count)"
   ]
  },
  {
   "cell_type": "code",
   "execution_count": 31,
   "id": "1cbe2ac4",
   "metadata": {},
   "outputs": [
    {
     "name": "stdout",
     "output_type": "stream",
     "text": [
      "Len before removing:  21501\n"
     ]
    }
   ],
   "source": [
    "print(\"Len before removing: \", len(df_all))"
   ]
  },
  {
   "cell_type": "markdown",
   "id": "b085bbac",
   "metadata": {},
   "source": [
    "Remove those tweets containing these hashtags"
   ]
  },
  {
   "cell_type": "code",
   "execution_count": 32,
   "id": "8db5adaf",
   "metadata": {},
   "outputs": [
    {
     "data": {
      "text/plain": [
       "1    [[happy, cute, art, sketch, sketchaday, illustrations, doodle, aww, friends, funny, memes, depression, comics, love, scbwi]]\n",
       "2                                                                                    [[depression, depressed, depressedthoughts]]\n",
       "3                                                                                                                  [[depression]]\n",
       "4                                                                                             [[depression, anxiety, loneliness]]\n",
       "5                                                                                          [[mentalhealth, suicidal, depression]]\n",
       "Name: cleaned_hashtags, dtype: object"
      ]
     },
     "execution_count": 32,
     "metadata": {},
     "output_type": "execute_result"
    }
   ],
   "source": [
    "selection_to_remove = [\"mentalhealth\", \"health\", \"happiness\", \"mentalillness\", \"happy\", \"joy\", \"wellbeing\"]\n",
    "def remove_promotional_messages(tags):\n",
    "    for tag in tags:\n",
    "        if tag in selection_to_remove:\n",
    "            return True\n",
    "    return False\n",
    "    \n",
    "\n",
    "mask1 = df_all.cleaned_hashtags.apply(remove_promotional_messages)\n",
    "df_all = df_all[mask1==False]\n",
    "df_all[\"cleaned_hashtags\"].head()"
   ]
  },
  {
   "cell_type": "code",
   "execution_count": 33,
   "id": "4612a304",
   "metadata": {},
   "outputs": [
    {
     "name": "stdout",
     "output_type": "stream",
     "text": [
      "18232\n"
     ]
    }
   ],
   "source": [
    "print(len(df_all))"
   ]
  },
  {
   "cell_type": "markdown",
   "id": "391190dd",
   "metadata": {},
   "source": [
    "#### Remove tweets that contain more than 5 hashtags"
   ]
  },
  {
   "cell_type": "code",
   "execution_count": 34,
   "id": "64350b20",
   "metadata": {},
   "outputs": [
    {
     "name": "stdout",
     "output_type": "stream",
     "text": [
      "10466\n"
     ]
    }
   ],
   "source": [
    "def remove_tweets_with_more_hashtags(tags):\n",
    "    return True if len(tags) > 5 else False\n",
    "\n",
    "mask2 = df_all.cleaned_hashtags.apply(remove_tweets_with_more_hashtags)\n",
    "df_all = df_all[mask2==False]\n",
    "df_all.head()\n",
    "print(len(df_all))"
   ]
  },
  {
   "cell_type": "markdown",
   "id": "e347285e",
   "metadata": {},
   "source": [
    "#### Remove tweets containing more than 5 mentions"
   ]
  },
  {
   "cell_type": "code",
   "execution_count": 35,
   "id": "c8e4d1d9",
   "metadata": {},
   "outputs": [
    {
     "data": {
      "text/plain": [
       "pandas.core.series.Series"
      ]
     },
     "execution_count": 35,
     "metadata": {},
     "output_type": "execute_result"
    }
   ],
   "source": [
    "type(df_all[\"mentions\"])"
   ]
  },
  {
   "cell_type": "code",
   "execution_count": 36,
   "id": "ed8118bf",
   "metadata": {},
   "outputs": [
    {
     "name": "stdout",
     "output_type": "stream",
     "text": [
      "8971\n"
     ]
    }
   ],
   "source": [
    "temp = df_all\n",
    "mask3 = temp.mentions.apply(lambda x: len(x) < 5)\n",
    "temp = temp[mask3]\n",
    "print(len(temp))"
   ]
  },
  {
   "cell_type": "markdown",
   "id": "ce370247",
   "metadata": {},
   "source": [
    "#### Remove tweets that has length <25 and have <5 words "
   ]
  },
  {
   "cell_type": "code",
   "execution_count": 37,
   "id": "037b7423",
   "metadata": {},
   "outputs": [
    {
     "name": "stdout",
     "output_type": "stream",
     "text": [
      "8782\n"
     ]
    }
   ],
   "source": [
    "mask4a = temp.tweet.apply(lambda x : len(x) > 25)\n",
    "temp = temp[mask4a]\n",
    "print(len(temp))"
   ]
  },
  {
   "cell_type": "code",
   "execution_count": 38,
   "id": "bb931682",
   "metadata": {},
   "outputs": [
    {
     "name": "stdout",
     "output_type": "stream",
     "text": [
      "8102\n"
     ]
    }
   ],
   "source": [
    "mask4b = temp.tweet.apply(lambda x : x.count(\" \") > 5)\n",
    "temp = temp[mask4b]\n",
    "print(len(temp))"
   ]
  },
  {
   "cell_type": "code",
   "execution_count": 39,
   "id": "e533f97b",
   "metadata": {},
   "outputs": [
    {
     "data": {
      "text/plain": [
       "8102"
      ]
     },
     "execution_count": 39,
     "metadata": {},
     "output_type": "execute_result"
    }
   ],
   "source": [
    "len(temp.tweet)"
   ]
  },
  {
   "cell_type": "markdown",
   "id": "0947136d",
   "metadata": {},
   "source": [
    "#### Remove tweets containing >5 URLs"
   ]
  },
  {
   "cell_type": "code",
   "execution_count": 40,
   "id": "0b60135c",
   "metadata": {},
   "outputs": [
    {
     "data": {
      "text/plain": [
       "8                                                                                                                                                                         I’m fed up.. I’ve been married to a drug and alcohol abuser for 2 ... #Psychology #Depression #Mentalhealth  https://t.co/cE4CWm0rr5\n",
       "14                                          “What happens when you stop an antidepressant is known as a discontinuation syndrome, due to the sudden loss of serotonin and/or norepinephrine that had been boosted in the brain by the medication.” #Depression #Antidepressant #Brain  https://t.co/XkHfeBGSaG\n",
       "20                                                                                                                                                                                          Doctor Discussion Guide: How to Talk About Your #MDD  https://t.co/ubzwPZMXP2 #Depression  https://t.co/FXR7kh4o4e\n",
       "30                                                                                                                                                                                                                       Und nochmal! #Depression|ssilvester   https://t.co/D1SGhOM5LD  #ZDF #MiniPlaybackShow\n",
       "35                     @tayari This Latina wrote &amp; self published my first novel  “Milo &amp; Elisa”  Inspired by my own struggle with my mental health  Important fiction YA novel about mental health, loving yourself &amp; the idea of guardian angels  #Depression #Anxiety   https://t.co/pgwfgjRxsb\n",
       "38                                                                                        Through #Socialmerk, Jen &amp; I are trying to flip the script. We’re not just talking about the good; we’re discussing #anxiety, #depression, and #perfectionism.  https://t.co/hNtTd9w2sC  https://t.co/5iWY6cbbvs\n",
       "40                                                                                                                                                             Hey 🌏 If you will Check Out My Video \"Angels\" on Youtube here's the link  https://t.co/0kPDG46pgN   #depression #2K19 #ojflocca #covers #angels\n",
       "42                                               “Milo &amp; Elisa”  My first book that was inspired by my own struggle with my mental health  Important fiction YA novel about mental health, loving yourself &amp; the idea of guardian angels  #Depression #Anxiety #mentalhealth   https://t.co/pgwfgjRxsb\n",
       "53                                                                                                                                                                               5 Things You Can Do to Help Your #Child with #Depression | NAMI: National Alliance on Mental Illness  https://t.co/l85BvhRYIM\n",
       "62    Individuals with axial spondyloarthritis who smoke are negatively affecting their disease by worsening fatigue, sleep, #anxiety, and #depression, as well as heightening the odds for #psoriasis. Read more about the new study:  https://t.co/bPjqmV6sVx  #smoke #rheumatology  https://t.co/jzEg5mA2fv\n",
       "Name: tweet, dtype: object"
      ]
     },
     "execution_count": 40,
     "metadata": {},
     "output_type": "execute_result"
    }
   ],
   "source": [
    "mask5 = temp.urls.apply(lambda x : len(x) < 5)\n",
    "temp[mask5==False].tweet.head(10)"
   ]
  },
  {
   "cell_type": "code",
   "execution_count": 41,
   "id": "8cc895d0",
   "metadata": {},
   "outputs": [
    {
     "data": {
      "text/plain": [
       "24514             @alyne_duthie \"#serotoninsyndrome (also referred to as serotonin toxicity) is a potentially life-threatening drug-induced #toxidrome associated with increased serotonergic activity in both the peripheral (PNS) &amp; central nervous systems (CNS).\" #antidepressants #ssris  https://t.co/gRKAdoWy1l\n",
       "24523                                                                                                                                                                                                                                         Why #Antidepressants Make Me a Better #Mom  https://t.co/K9L1UE8l01 #anxiety\n",
       "24527                                                                                                                                                                                               #Vigorous_exercise can create the same biological state as #antidepressants. Choose exercise.  https://t.co/3ZrL4BcKuB\n",
       "24533                            The number of people with #dementia is increasing as people live longer. In 2017, GP registers in UK showed more than 450k people had a formal diagnosis of dementia. A study suggests that #antidepressants don’t help treat depression in people with dementia  https://t.co/g6v8rrInrg\n",
       "24534                                                                                                                                                                          Could psychological therapy help you sleep &amp; reduce your need for #antidepressants?  https://t.co/KbEDTMUvKj #insomnia #depression #CBT\n",
       "24535                                                                                                                                                    Grief, menopause, and the 'stiff upper lip': why are so many over-65s taking antidepressants? #menopause #ageing #grief #antidepressants  https://t.co/hTOehB98W2\n",
       "24537                     Eridanus Healthcare is providing the best Neuropsychiatry business opportunity in your desired region.  Visit Our Website:  https://t.co/4TzaXON25F Email At: eridanushealth12@gmail.com or Contact Us: 9357809981 #Neuropsychiatric #AntiDepressants #Medicine #pharma  https://t.co/yVUmyzN5HP\n",
       "24538                              What is mediction-induced #akathisia? And why is it so important to recognise - esp. when starting, stopping, changing meds such as #antidepressants ... For more info about see  https://t.co/8vioTaAZN7 #itsgoodtotalk #everylifematters #suicideprevention   https://t.co/E8egmVI9Tm\n",
       "24541                                                                                                                                                                               Treating #Tourette Syndrome and #Tics with Self-Hypnosis -  https://t.co/Vtpeendbrz #Antidepressants #Anxiety  https://t.co/LUMWYglGYi\n",
       "24542    @billkinkle @tomfolanmd \"How to Quit #antidepressants: Very Slowly, Doctors Say.\"  \"Mustering solid evidence, two researchers have denounced the standard psychiatric guidelines for how best to wean patients from depression medications.\" #takeNOTICE #depression #Anxiety #medicine   https://t.co/dGqWwS7VdJ\n",
       "Name: tweet, dtype: object"
      ]
     },
     "execution_count": 41,
     "metadata": {},
     "output_type": "execute_result"
    }
   ],
   "source": [
    "temp[mask5==False].tweet.tail(10)"
   ]
  },
  {
   "cell_type": "code",
   "execution_count": 42,
   "id": "7ec26d4c",
   "metadata": {},
   "outputs": [
    {
     "data": {
      "text/plain": [
       "8102"
      ]
     },
     "execution_count": 42,
     "metadata": {},
     "output_type": "execute_result"
    }
   ],
   "source": [
    "len(temp)"
   ]
  },
  {
   "cell_type": "markdown",
   "id": "c0ba9cd9",
   "metadata": {},
   "source": [
    "#### Remove any special characters from tweets"
   ]
  },
  {
   "cell_type": "code",
   "execution_count": 43,
   "id": "0141ae78",
   "metadata": {},
   "outputs": [],
   "source": [
    "import re\n",
    "temp[\"mod_text\"] = temp[\"tweet\"].apply(lambda x: re.sub(r'#\\w+', '', x))"
   ]
  },
  {
   "cell_type": "code",
   "execution_count": 44,
   "id": "ca11b6c4",
   "metadata": {},
   "outputs": [
    {
     "data": {
      "text/plain": [
       "2                                                                                             I am afraid of death.  I don't want to die.  Yet this still does not motivate me to do things I enjoy.  Die happy, or die sad.  Either way, you die so what's the point?    \n",
       "3                                                       @Sia I wish I’d known I could write about myself...😞 I’m always too late for everything, miss out on everything...my gahd. My life... Anyway, have a Happy New Year. Here’s to hoping next year will be better... \n",
       "6                       1 eye is smaller than the other. My lips so imperfect. I was so thin 20 years ago, and today I’m so into the opposite. But I love who I am.  For all us, warriors against   and  For a better, healthier, blessed 2019! 🍷  https://t.co/7pAXGpvfgJ\n",
       "8                                                                                                                                                                        I’m fed up.. I’ve been married to a drug and alcohol abuser for 2 ...     https://t.co/cE4CWm0rr5\n",
       "10                 It’s no wonder so many of us feel so shitty so often with various types of  &amp;  because from a certain perspective we are all walking tragedies!  Apparently the source of all creation resides within us &amp; we just don’t notice it!  LMAO!!!  !\n",
       "14                                      “What happens when you stop an antidepressant is known as a discontinuation syndrome, due to the sudden loss of serotonin and/or norepinephrine that had been boosted in the brain by the medication.”     https://t.co/XkHfeBGSaG\n",
       "20                                                                                                                                                                     Doctor Discussion Guide: How to Talk About Your   https://t.co/ubzwPZMXP2   https://t.co/FXR7kh4o4e\n",
       "26                                                                                                                                                                                           Here’s to the end of 2018! 🥂 I am grateful to have made it another year!     \n",
       "29                                                                                                                                                                 In 2019 I resolve to get back on my meds. I will have insurance again, so there's no excuse not to.    \n",
       "30                                                                                                                                                                                                                   Und nochmal! |ssilvester   https://t.co/D1SGhOM5LD   \n",
       "35    @tayari This Latina wrote &amp; self published my first novel  “Milo &amp; Elisa”  Inspired by my own struggle with my mental health  Important fiction YA novel about mental health, loving yourself &amp; the idea of guardian angels      https://t.co/pgwfgjRxsb\n",
       "38                                                                                                Through , Jen &amp; I are trying to flip the script. We’re not just talking about the good; we’re discussing , , and .  https://t.co/hNtTd9w2sC  https://t.co/5iWY6cbbvs\n",
       "40                                                                                                                                                                Hey 🌏 If you will Check Out My Video \"Angels\" on Youtube here's the link  https://t.co/0kPDG46pgN       \n",
       "41                                                                                                                                                                                                                    Junjie: An Appreciation Thread   Trigger warning:   \n",
       "42                                           “Milo &amp; Elisa”  My first book that was inspired by my own struggle with my mental health  Important fiction YA novel about mental health, loving yourself &amp; the idea of guardian angels       https://t.co/pgwfgjRxsb\n",
       "Name: mod_text, dtype: object"
      ]
     },
     "execution_count": 44,
     "metadata": {},
     "output_type": "execute_result"
    }
   ],
   "source": [
    "temp.mod_text.head(15)"
   ]
  },
  {
   "cell_type": "code",
   "execution_count": 45,
   "id": "c2d3d916",
   "metadata": {},
   "outputs": [
    {
     "data": {
      "text/plain": [
       "24538                                                  What is mediction-induced ? And why is it so important to recognise - esp. when starting, stopping, changing meds such as  ... For more info about see  https://t.co/8vioTaAZN7      https://t.co/E8egmVI9Tm\n",
       "24541                                                                                                                                                              Treating  Syndrome and  with Self-Hypnosis -  https://t.co/Vtpeendbrz    https://t.co/LUMWYglGYi\n",
       "24542    @billkinkle @tomfolanmd \"How to Quit : Very Slowly, Doctors Say.\"  \"Mustering solid evidence, two researchers have denounced the standard psychiatric guidelines for how best to wean patients from depression medications.\"       https://t.co/dGqWwS7VdJ\n",
       "24544                                                                                                                    Yes have read a lot from Prof Healy about the way they effect emotions and had contact with Prof Healy also read lots from Peter breggins \n",
       "24548                                                                                                                                 So glad when I went to the doctors I refused antidepressants if only my wife had done the same    😢😢  https://t.co/AivdJG6UfB\n",
       "Name: mod_text, dtype: object"
      ]
     },
     "execution_count": 45,
     "metadata": {},
     "output_type": "execute_result"
    }
   ],
   "source": [
    "temp.mod_text.tail()"
   ]
  },
  {
   "cell_type": "markdown",
   "id": "45867ee4",
   "metadata": {},
   "source": [
    "#### Remove unnecessary cols and rename some cols"
   ]
  },
  {
   "cell_type": "code",
   "execution_count": 46,
   "id": "c0fb5359",
   "metadata": {},
   "outputs": [],
   "source": [
    "col_list = [\"id\", \"conversation_id\", \"date\", \"username\", \"mod_text\", \"hashtags\", \"tweet\"]"
   ]
  },
  {
   "cell_type": "code",
   "execution_count": 47,
   "id": "2d73b830",
   "metadata": {},
   "outputs": [],
   "source": [
    "df_final1 = temp[col_list]\n",
    "df_final1 = df_final1.rename(columns={\"mod_text\": \"tweet_processed\", \"tweet\": \"tweet_original\"})"
   ]
  },
  {
   "cell_type": "markdown",
   "id": "34bfda04",
   "metadata": {},
   "source": [
    "#### Add a label to this DF"
   ]
  },
  {
   "cell_type": "code",
   "execution_count": 48,
   "id": "5a1bf057",
   "metadata": {},
   "outputs": [],
   "source": [
    "df_final1[\"target\"] = 1"
   ]
  },
  {
   "cell_type": "code",
   "execution_count": 49,
   "id": "8ee4b3d0",
   "metadata": {},
   "outputs": [
    {
     "data": {
      "text/html": [
       "<div>\n",
       "<style scoped>\n",
       "    .dataframe tbody tr th:only-of-type {\n",
       "        vertical-align: middle;\n",
       "    }\n",
       "\n",
       "    .dataframe tbody tr th {\n",
       "        vertical-align: top;\n",
       "    }\n",
       "\n",
       "    .dataframe thead th {\n",
       "        text-align: right;\n",
       "    }\n",
       "</style>\n",
       "<table border=\"1\" class=\"dataframe\">\n",
       "  <thead>\n",
       "    <tr style=\"text-align: right;\">\n",
       "      <th></th>\n",
       "      <th>id</th>\n",
       "      <th>conversation_id</th>\n",
       "      <th>date</th>\n",
       "      <th>username</th>\n",
       "      <th>tweet_processed</th>\n",
       "      <th>hashtags</th>\n",
       "      <th>tweet_original</th>\n",
       "      <th>target</th>\n",
       "    </tr>\n",
       "  </thead>\n",
       "  <tbody>\n",
       "    <tr>\n",
       "      <th>2</th>\n",
       "      <td>1079889364358975494</td>\n",
       "      <td>1079889364358975494</td>\n",
       "      <td>2018-12-31</td>\n",
       "      <td>depressediniowa</td>\n",
       "      <td>I am afraid of death.  I don't want to die.  Yet this still does not motivate me to do things I enjoy.  Die happy, or die sad.  Either way, you die so what's the point?</td>\n",
       "      <td>['depression', 'depressed', 'depressedthoughts']</td>\n",
       "      <td>I am afraid of death.  I don't want to die.  Yet this still does not motivate me to do things I enjoy.  Die happy, or die sad.  Either way, you die so what's the point?  #depression #depressed #depressedthoughts</td>\n",
       "      <td>1</td>\n",
       "    </tr>\n",
       "    <tr>\n",
       "      <th>3</th>\n",
       "      <td>1079888935457882113</td>\n",
       "      <td>1076269087943057408</td>\n",
       "      <td>2018-12-31</td>\n",
       "      <td>mo_loves</td>\n",
       "      <td>@Sia I wish I’d known I could write about myself...😞 I’m always too late for everything, miss out on everything...my gahd. My life... Anyway, have a Happy New Year. Here’s to hoping next year will be better...</td>\n",
       "      <td>['depression']</td>\n",
       "      <td>@Sia I wish I’d known I could write about myself...😞 I’m always too late for everything, miss out on everything...my gahd. My life... Anyway, have a Happy New Year. Here’s to hoping next year will be better... #depression</td>\n",
       "      <td>1</td>\n",
       "    </tr>\n",
       "    <tr>\n",
       "      <th>6</th>\n",
       "      <td>1079886706675994631</td>\n",
       "      <td>1079886706675994631</td>\n",
       "      <td>2018-12-31</td>\n",
       "      <td>1houratatime</td>\n",
       "      <td>1 eye is smaller than the other. My lips so imperfect. I was so thin 20 years ago, and today I’m so into the opposite. But I love who I am.  For all us, warriors against   and  For a better, healthier, blessed 2019! 🍷  https://t.co/7pAXGpvfgJ</td>\n",
       "      <td>['depression', 'anxiety', 'ehlersdanlossyndrome', 'happy2019']</td>\n",
       "      <td>1 eye is smaller than the other. My lips so imperfect. I was so thin 20 years ago, and today I’m so into the opposite. But I love who I am.  For all us, warriors against #depression #anxiety and #ehlersdanlossyndrome For a better, healthier, blessed 2019! 🍷#Happy2019  https://t.co/7pAXGpvfgJ</td>\n",
       "      <td>1</td>\n",
       "    </tr>\n",
       "    <tr>\n",
       "      <th>8</th>\n",
       "      <td>1079886355885367297</td>\n",
       "      <td>1079886355885367297</td>\n",
       "      <td>2018-12-31</td>\n",
       "      <td>thecou_ch</td>\n",
       "      <td>I’m fed up.. I’ve been married to a drug and alcohol abuser for 2 ...     https://t.co/cE4CWm0rr5</td>\n",
       "      <td>['psychology', 'depression', 'mentalhealth']</td>\n",
       "      <td>I’m fed up.. I’ve been married to a drug and alcohol abuser for 2 ... #Psychology #Depression #Mentalhealth  https://t.co/cE4CWm0rr5</td>\n",
       "      <td>1</td>\n",
       "    </tr>\n",
       "    <tr>\n",
       "      <th>10</th>\n",
       "      <td>1079886121931235328</td>\n",
       "      <td>1079886121931235328</td>\n",
       "      <td>2018-12-31</td>\n",
       "      <td>griffinhearts</td>\n",
       "      <td>It’s no wonder so many of us feel so shitty so often with various types of  &amp;amp;  because from a certain perspective we are all walking tragedies!  Apparently the source of all creation resides within us &amp;amp; we just don’t notice it!  LMAO!!!  !</td>\n",
       "      <td>['anxiety', 'depression', '3chordsandthetruth']</td>\n",
       "      <td>It’s no wonder so many of us feel so shitty so often with various types of #Anxiety &amp;amp; #Depression because from a certain perspective we are all walking tragedies!  Apparently the source of all creation resides within us &amp;amp; we just don’t notice it!  LMAO!!!  #3ChordsandTheTruth!</td>\n",
       "      <td>1</td>\n",
       "    </tr>\n",
       "  </tbody>\n",
       "</table>\n",
       "</div>"
      ],
      "text/plain": [
       "                     id      conversation_id        date         username  \\\n",
       "2   1079889364358975494  1079889364358975494  2018-12-31  depressediniowa   \n",
       "3   1079888935457882113  1076269087943057408  2018-12-31         mo_loves   \n",
       "6   1079886706675994631  1079886706675994631  2018-12-31     1houratatime   \n",
       "8   1079886355885367297  1079886355885367297  2018-12-31        thecou_ch   \n",
       "10  1079886121931235328  1079886121931235328  2018-12-31    griffinhearts   \n",
       "\n",
       "                                                                                                                                                                                                                                            tweet_processed  \\\n",
       "2                                                                              I am afraid of death.  I don't want to die.  Yet this still does not motivate me to do things I enjoy.  Die happy, or die sad.  Either way, you die so what's the point?       \n",
       "3                                        @Sia I wish I’d known I could write about myself...😞 I’m always too late for everything, miss out on everything...my gahd. My life... Anyway, have a Happy New Year. Here’s to hoping next year will be better...    \n",
       "6        1 eye is smaller than the other. My lips so imperfect. I was so thin 20 years ago, and today I’m so into the opposite. But I love who I am.  For all us, warriors against   and  For a better, healthier, blessed 2019! 🍷  https://t.co/7pAXGpvfgJ   \n",
       "8                                                                                                                                                         I’m fed up.. I’ve been married to a drug and alcohol abuser for 2 ...     https://t.co/cE4CWm0rr5   \n",
       "10  It’s no wonder so many of us feel so shitty so often with various types of  &amp;  because from a certain perspective we are all walking tragedies!  Apparently the source of all creation resides within us &amp; we just don’t notice it!  LMAO!!!  !   \n",
       "\n",
       "                                                          hashtags  \\\n",
       "2                 ['depression', 'depressed', 'depressedthoughts']   \n",
       "3                                                   ['depression']   \n",
       "6   ['depression', 'anxiety', 'ehlersdanlossyndrome', 'happy2019']   \n",
       "8                     ['psychology', 'depression', 'mentalhealth']   \n",
       "10                 ['anxiety', 'depression', '3chordsandthetruth']   \n",
       "\n",
       "                                                                                                                                                                                                                                                                                          tweet_original  \\\n",
       "2                                                                                    I am afraid of death.  I don't want to die.  Yet this still does not motivate me to do things I enjoy.  Die happy, or die sad.  Either way, you die so what's the point?  #depression #depressed #depressedthoughts   \n",
       "3                                                                          @Sia I wish I’d known I could write about myself...😞 I’m always too late for everything, miss out on everything...my gahd. My life... Anyway, have a Happy New Year. Here’s to hoping next year will be better... #depression   \n",
       "6   1 eye is smaller than the other. My lips so imperfect. I was so thin 20 years ago, and today I’m so into the opposite. But I love who I am.  For all us, warriors against #depression #anxiety and #ehlersdanlossyndrome For a better, healthier, blessed 2019! 🍷#Happy2019  https://t.co/7pAXGpvfgJ   \n",
       "8                                                                                                                                                                   I’m fed up.. I’ve been married to a drug and alcohol abuser for 2 ... #Psychology #Depression #Mentalhealth  https://t.co/cE4CWm0rr5   \n",
       "10         It’s no wonder so many of us feel so shitty so often with various types of #Anxiety &amp; #Depression because from a certain perspective we are all walking tragedies!  Apparently the source of all creation resides within us &amp; we just don’t notice it!  LMAO!!!  #3ChordsandTheTruth!   \n",
       "\n",
       "    target  \n",
       "2        1  \n",
       "3        1  \n",
       "6        1  \n",
       "8        1  \n",
       "10       1  "
      ]
     },
     "execution_count": 49,
     "metadata": {},
     "output_type": "execute_result"
    }
   ],
   "source": [
    "df_final1.head()"
   ]
  },
  {
   "cell_type": "code",
   "execution_count": 50,
   "id": "3a242c26",
   "metadata": {},
   "outputs": [
    {
     "data": {
      "text/plain": [
       "8102"
      ]
     },
     "execution_count": 50,
     "metadata": {},
     "output_type": "execute_result"
    }
   ],
   "source": [
    "len(df_final1)"
   ]
  },
  {
   "cell_type": "code",
   "execution_count": 51,
   "id": "370b0f39",
   "metadata": {},
   "outputs": [],
   "source": [
    "df_final1.to_csv(\"./depressed_tweets_cleaned.csv\")"
   ]
  },
  {
   "cell_type": "code",
   "execution_count": 52,
   "id": "c71a7a77",
   "metadata": {},
   "outputs": [
    {
     "data": {
      "text/html": [
       "<div>\n",
       "<style scoped>\n",
       "    .dataframe tbody tr th:only-of-type {\n",
       "        vertical-align: middle;\n",
       "    }\n",
       "\n",
       "    .dataframe tbody tr th {\n",
       "        vertical-align: top;\n",
       "    }\n",
       "\n",
       "    .dataframe thead th {\n",
       "        text-align: right;\n",
       "    }\n",
       "</style>\n",
       "<table border=\"1\" class=\"dataframe\">\n",
       "  <thead>\n",
       "    <tr style=\"text-align: right;\">\n",
       "      <th></th>\n",
       "      <th>id</th>\n",
       "      <th>conversation_id</th>\n",
       "      <th>date</th>\n",
       "      <th>username</th>\n",
       "      <th>tweet_processed</th>\n",
       "      <th>hashtags</th>\n",
       "      <th>tweet_original</th>\n",
       "      <th>target</th>\n",
       "    </tr>\n",
       "  </thead>\n",
       "  <tbody>\n",
       "    <tr>\n",
       "      <th>2</th>\n",
       "      <td>1079889364358975494</td>\n",
       "      <td>1079889364358975494</td>\n",
       "      <td>2018-12-31</td>\n",
       "      <td>depressediniowa</td>\n",
       "      <td>I am afraid of death.  I don't want to die.  Yet this still does not motivate me to do things I enjoy.  Die happy, or die sad.  Either way, you die so what's the point?</td>\n",
       "      <td>['depression', 'depressed', 'depressedthoughts']</td>\n",
       "      <td>I am afraid of death.  I don't want to die.  Yet this still does not motivate me to do things I enjoy.  Die happy, or die sad.  Either way, you die so what's the point?  #depression #depressed #depressedthoughts</td>\n",
       "      <td>1</td>\n",
       "    </tr>\n",
       "    <tr>\n",
       "      <th>3</th>\n",
       "      <td>1079888935457882113</td>\n",
       "      <td>1076269087943057408</td>\n",
       "      <td>2018-12-31</td>\n",
       "      <td>mo_loves</td>\n",
       "      <td>@Sia I wish I’d known I could write about myself...😞 I’m always too late for everything, miss out on everything...my gahd. My life... Anyway, have a Happy New Year. Here’s to hoping next year will be better...</td>\n",
       "      <td>['depression']</td>\n",
       "      <td>@Sia I wish I’d known I could write about myself...😞 I’m always too late for everything, miss out on everything...my gahd. My life... Anyway, have a Happy New Year. Here’s to hoping next year will be better... #depression</td>\n",
       "      <td>1</td>\n",
       "    </tr>\n",
       "    <tr>\n",
       "      <th>6</th>\n",
       "      <td>1079886706675994631</td>\n",
       "      <td>1079886706675994631</td>\n",
       "      <td>2018-12-31</td>\n",
       "      <td>1houratatime</td>\n",
       "      <td>1 eye is smaller than the other. My lips so imperfect. I was so thin 20 years ago, and today I’m so into the opposite. But I love who I am.  For all us, warriors against   and  For a better, healthier, blessed 2019! 🍷  https://t.co/7pAXGpvfgJ</td>\n",
       "      <td>['depression', 'anxiety', 'ehlersdanlossyndrome', 'happy2019']</td>\n",
       "      <td>1 eye is smaller than the other. My lips so imperfect. I was so thin 20 years ago, and today I’m so into the opposite. But I love who I am.  For all us, warriors against #depression #anxiety and #ehlersdanlossyndrome For a better, healthier, blessed 2019! 🍷#Happy2019  https://t.co/7pAXGpvfgJ</td>\n",
       "      <td>1</td>\n",
       "    </tr>\n",
       "    <tr>\n",
       "      <th>8</th>\n",
       "      <td>1079886355885367297</td>\n",
       "      <td>1079886355885367297</td>\n",
       "      <td>2018-12-31</td>\n",
       "      <td>thecou_ch</td>\n",
       "      <td>I’m fed up.. I’ve been married to a drug and alcohol abuser for 2 ...     https://t.co/cE4CWm0rr5</td>\n",
       "      <td>['psychology', 'depression', 'mentalhealth']</td>\n",
       "      <td>I’m fed up.. I’ve been married to a drug and alcohol abuser for 2 ... #Psychology #Depression #Mentalhealth  https://t.co/cE4CWm0rr5</td>\n",
       "      <td>1</td>\n",
       "    </tr>\n",
       "    <tr>\n",
       "      <th>10</th>\n",
       "      <td>1079886121931235328</td>\n",
       "      <td>1079886121931235328</td>\n",
       "      <td>2018-12-31</td>\n",
       "      <td>griffinhearts</td>\n",
       "      <td>It’s no wonder so many of us feel so shitty so often with various types of  &amp;amp;  because from a certain perspective we are all walking tragedies!  Apparently the source of all creation resides within us &amp;amp; we just don’t notice it!  LMAO!!!  !</td>\n",
       "      <td>['anxiety', 'depression', '3chordsandthetruth']</td>\n",
       "      <td>It’s no wonder so many of us feel so shitty so often with various types of #Anxiety &amp;amp; #Depression because from a certain perspective we are all walking tragedies!  Apparently the source of all creation resides within us &amp;amp; we just don’t notice it!  LMAO!!!  #3ChordsandTheTruth!</td>\n",
       "      <td>1</td>\n",
       "    </tr>\n",
       "    <tr>\n",
       "      <th>...</th>\n",
       "      <td>...</td>\n",
       "      <td>...</td>\n",
       "      <td>...</td>\n",
       "      <td>...</td>\n",
       "      <td>...</td>\n",
       "      <td>...</td>\n",
       "      <td>...</td>\n",
       "      <td>...</td>\n",
       "    </tr>\n",
       "    <tr>\n",
       "      <th>24538</th>\n",
       "      <td>1184757738687127553</td>\n",
       "      <td>1184757738687127553</td>\n",
       "      <td>2019-10-17</td>\n",
       "      <td>recover2renew</td>\n",
       "      <td>What is mediction-induced ? And why is it so important to recognise - esp. when starting, stopping, changing meds such as  ... For more info about see  https://t.co/8vioTaAZN7      https://t.co/E8egmVI9Tm</td>\n",
       "      <td>['akathisia', 'antidepressants', 'itsgoodtotalk', 'everylifematters', 'suicideprevention']</td>\n",
       "      <td>What is mediction-induced #akathisia? And why is it so important to recognise - esp. when starting, stopping, changing meds such as #antidepressants ... For more info about see  https://t.co/8vioTaAZN7 #itsgoodtotalk #everylifematters #suicideprevention   https://t.co/E8egmVI9Tm</td>\n",
       "      <td>1</td>\n",
       "    </tr>\n",
       "    <tr>\n",
       "      <th>24541</th>\n",
       "      <td>1184731310100754432</td>\n",
       "      <td>1184731310100754432</td>\n",
       "      <td>2019-10-17</td>\n",
       "      <td>stopticstoday</td>\n",
       "      <td>Treating  Syndrome and  with Self-Hypnosis -  https://t.co/Vtpeendbrz    https://t.co/LUMWYglGYi</td>\n",
       "      <td>['tourette', 'tics', 'antidepressants', 'anxiety']</td>\n",
       "      <td>Treating #Tourette Syndrome and #Tics with Self-Hypnosis -  https://t.co/Vtpeendbrz #Antidepressants #Anxiety  https://t.co/LUMWYglGYi</td>\n",
       "      <td>1</td>\n",
       "    </tr>\n",
       "    <tr>\n",
       "      <th>24542</th>\n",
       "      <td>1184702724920827904</td>\n",
       "      <td>1184598371178299392</td>\n",
       "      <td>2019-10-17</td>\n",
       "      <td>nicholasjohn83</td>\n",
       "      <td>@billkinkle @tomfolanmd \"How to Quit : Very Slowly, Doctors Say.\"  \"Mustering solid evidence, two researchers have denounced the standard psychiatric guidelines for how best to wean patients from depression medications.\"       https://t.co/dGqWwS7VdJ</td>\n",
       "      <td>['antidepressants', 'takenotice', 'depression', 'anxiety', 'medicine']</td>\n",
       "      <td>@billkinkle @tomfolanmd \"How to Quit #antidepressants: Very Slowly, Doctors Say.\"  \"Mustering solid evidence, two researchers have denounced the standard psychiatric guidelines for how best to wean patients from depression medications.\" #takeNOTICE #depression #Anxiety #medicine   https://t.co/dGqWwS7VdJ</td>\n",
       "      <td>1</td>\n",
       "    </tr>\n",
       "    <tr>\n",
       "      <th>24544</th>\n",
       "      <td>1184587281019084801</td>\n",
       "      <td>1184587281019084801</td>\n",
       "      <td>2019-10-16</td>\n",
       "      <td>coyssince84</td>\n",
       "      <td>Yes have read a lot from Prof Healy about the way they effect emotions and had contact with Prof Healy also read lots from Peter breggins</td>\n",
       "      <td>['antidepressants']</td>\n",
       "      <td>Yes have read a lot from Prof Healy about the way they effect emotions and had contact with Prof Healy also read lots from Peter breggins #antidepressants</td>\n",
       "      <td>1</td>\n",
       "    </tr>\n",
       "    <tr>\n",
       "      <th>24548</th>\n",
       "      <td>1184546930959015936</td>\n",
       "      <td>1184546930959015936</td>\n",
       "      <td>2019-10-16</td>\n",
       "      <td>coyssince84</td>\n",
       "      <td>So glad when I went to the doctors I refused antidepressants if only my wife had done the same    😢😢  https://t.co/AivdJG6UfB</td>\n",
       "      <td>['mentalhealthawareness', 'antidepressants', 'withdrawals']</td>\n",
       "      <td>So glad when I went to the doctors I refused antidepressants if only my wife had done the same #MentalHealthAwareness #antidepressants #withdrawals 😢😢  https://t.co/AivdJG6UfB</td>\n",
       "      <td>1</td>\n",
       "    </tr>\n",
       "  </tbody>\n",
       "</table>\n",
       "<p>8102 rows × 8 columns</p>\n",
       "</div>"
      ],
      "text/plain": [
       "                        id      conversation_id        date         username  \\\n",
       "2      1079889364358975494  1079889364358975494  2018-12-31  depressediniowa   \n",
       "3      1079888935457882113  1076269087943057408  2018-12-31         mo_loves   \n",
       "6      1079886706675994631  1079886706675994631  2018-12-31     1houratatime   \n",
       "8      1079886355885367297  1079886355885367297  2018-12-31        thecou_ch   \n",
       "10     1079886121931235328  1079886121931235328  2018-12-31    griffinhearts   \n",
       "...                    ...                  ...         ...              ...   \n",
       "24538  1184757738687127553  1184757738687127553  2019-10-17    recover2renew   \n",
       "24541  1184731310100754432  1184731310100754432  2019-10-17    stopticstoday   \n",
       "24542  1184702724920827904  1184598371178299392  2019-10-17   nicholasjohn83   \n",
       "24544  1184587281019084801  1184587281019084801  2019-10-16      coyssince84   \n",
       "24548  1184546930959015936  1184546930959015936  2019-10-16      coyssince84   \n",
       "\n",
       "                                                                                                                                                                                                                                                  tweet_processed  \\\n",
       "2                                                                                    I am afraid of death.  I don't want to die.  Yet this still does not motivate me to do things I enjoy.  Die happy, or die sad.  Either way, you die so what's the point?       \n",
       "3                                              @Sia I wish I’d known I could write about myself...😞 I’m always too late for everything, miss out on everything...my gahd. My life... Anyway, have a Happy New Year. Here’s to hoping next year will be better...    \n",
       "6              1 eye is smaller than the other. My lips so imperfect. I was so thin 20 years ago, and today I’m so into the opposite. But I love who I am.  For all us, warriors against   and  For a better, healthier, blessed 2019! 🍷  https://t.co/7pAXGpvfgJ   \n",
       "8                                                                                                                                                               I’m fed up.. I’ve been married to a drug and alcohol abuser for 2 ...     https://t.co/cE4CWm0rr5   \n",
       "10        It’s no wonder so many of us feel so shitty so often with various types of  &amp;  because from a certain perspective we are all walking tragedies!  Apparently the source of all creation resides within us &amp; we just don’t notice it!  LMAO!!!  !   \n",
       "...                                                                                                                                                                                                                                                           ...   \n",
       "24538                                                What is mediction-induced ? And why is it so important to recognise - esp. when starting, stopping, changing meds such as  ... For more info about see  https://t.co/8vioTaAZN7      https://t.co/E8egmVI9Tm   \n",
       "24541                                                                                                                                                            Treating  Syndrome and  with Self-Hypnosis -  https://t.co/Vtpeendbrz    https://t.co/LUMWYglGYi   \n",
       "24542  @billkinkle @tomfolanmd \"How to Quit : Very Slowly, Doctors Say.\"  \"Mustering solid evidence, two researchers have denounced the standard psychiatric guidelines for how best to wean patients from depression medications.\"       https://t.co/dGqWwS7VdJ   \n",
       "24544                                                                                                                  Yes have read a lot from Prof Healy about the way they effect emotions and had contact with Prof Healy also read lots from Peter breggins    \n",
       "24548                                                                                                                               So glad when I went to the doctors I refused antidepressants if only my wife had done the same    😢😢  https://t.co/AivdJG6UfB   \n",
       "\n",
       "                                                                                         hashtags  \\\n",
       "2                                                ['depression', 'depressed', 'depressedthoughts']   \n",
       "3                                                                                  ['depression']   \n",
       "6                                  ['depression', 'anxiety', 'ehlersdanlossyndrome', 'happy2019']   \n",
       "8                                                    ['psychology', 'depression', 'mentalhealth']   \n",
       "10                                                ['anxiety', 'depression', '3chordsandthetruth']   \n",
       "...                                                                                           ...   \n",
       "24538  ['akathisia', 'antidepressants', 'itsgoodtotalk', 'everylifematters', 'suicideprevention']   \n",
       "24541                                          ['tourette', 'tics', 'antidepressants', 'anxiety']   \n",
       "24542                      ['antidepressants', 'takenotice', 'depression', 'anxiety', 'medicine']   \n",
       "24544                                                                         ['antidepressants']   \n",
       "24548                                 ['mentalhealthawareness', 'antidepressants', 'withdrawals']   \n",
       "\n",
       "                                                                                                                                                                                                                                                                                                          tweet_original  \\\n",
       "2                                                                                                    I am afraid of death.  I don't want to die.  Yet this still does not motivate me to do things I enjoy.  Die happy, or die sad.  Either way, you die so what's the point?  #depression #depressed #depressedthoughts   \n",
       "3                                                                                          @Sia I wish I’d known I could write about myself...😞 I’m always too late for everything, miss out on everything...my gahd. My life... Anyway, have a Happy New Year. Here’s to hoping next year will be better... #depression   \n",
       "6                   1 eye is smaller than the other. My lips so imperfect. I was so thin 20 years ago, and today I’m so into the opposite. But I love who I am.  For all us, warriors against #depression #anxiety and #ehlersdanlossyndrome For a better, healthier, blessed 2019! 🍷#Happy2019  https://t.co/7pAXGpvfgJ   \n",
       "8                                                                                                                                                                                   I’m fed up.. I’ve been married to a drug and alcohol abuser for 2 ... #Psychology #Depression #Mentalhealth  https://t.co/cE4CWm0rr5   \n",
       "10                         It’s no wonder so many of us feel so shitty so often with various types of #Anxiety &amp; #Depression because from a certain perspective we are all walking tragedies!  Apparently the source of all creation resides within us &amp; we just don’t notice it!  LMAO!!!  #3ChordsandTheTruth!   \n",
       "...                                                                                                                                                                                                                                                                                                                  ...   \n",
       "24538                            What is mediction-induced #akathisia? And why is it so important to recognise - esp. when starting, stopping, changing meds such as #antidepressants ... For more info about see  https://t.co/8vioTaAZN7 #itsgoodtotalk #everylifematters #suicideprevention   https://t.co/E8egmVI9Tm   \n",
       "24541                                                                                                                                                                             Treating #Tourette Syndrome and #Tics with Self-Hypnosis -  https://t.co/Vtpeendbrz #Antidepressants #Anxiety  https://t.co/LUMWYglGYi   \n",
       "24542  @billkinkle @tomfolanmd \"How to Quit #antidepressants: Very Slowly, Doctors Say.\"  \"Mustering solid evidence, two researchers have denounced the standard psychiatric guidelines for how best to wean patients from depression medications.\" #takeNOTICE #depression #Anxiety #medicine   https://t.co/dGqWwS7VdJ   \n",
       "24544                                                                                                                                                         Yes have read a lot from Prof Healy about the way they effect emotions and had contact with Prof Healy also read lots from Peter breggins #antidepressants   \n",
       "24548                                                                                                                                    So glad when I went to the doctors I refused antidepressants if only my wife had done the same #MentalHealthAwareness #antidepressants #withdrawals 😢😢  https://t.co/AivdJG6UfB   \n",
       "\n",
       "       target  \n",
       "2           1  \n",
       "3           1  \n",
       "6           1  \n",
       "8           1  \n",
       "10          1  \n",
       "...       ...  \n",
       "24538       1  \n",
       "24541       1  \n",
       "24542       1  \n",
       "24544       1  \n",
       "24548       1  \n",
       "\n",
       "[8102 rows x 8 columns]"
      ]
     },
     "execution_count": 52,
     "metadata": {},
     "output_type": "execute_result"
    }
   ],
   "source": [
    "df_final1"
   ]
  },
  {
   "cell_type": "markdown",
   "id": "7f484e88",
   "metadata": {},
   "source": [
    "#### Reindex the rows and save the DF as a csv file"
   ]
  },
  {
   "cell_type": "code",
   "execution_count": 53,
   "id": "146dcbaf",
   "metadata": {},
   "outputs": [],
   "source": [
    "df_final1 = df_final1.reset_index(drop=True)"
   ]
  },
  {
   "cell_type": "code",
   "execution_count": 54,
   "id": "e2fe9eba",
   "metadata": {},
   "outputs": [
    {
     "data": {
      "text/html": [
       "<div>\n",
       "<style scoped>\n",
       "    .dataframe tbody tr th:only-of-type {\n",
       "        vertical-align: middle;\n",
       "    }\n",
       "\n",
       "    .dataframe tbody tr th {\n",
       "        vertical-align: top;\n",
       "    }\n",
       "\n",
       "    .dataframe thead th {\n",
       "        text-align: right;\n",
       "    }\n",
       "</style>\n",
       "<table border=\"1\" class=\"dataframe\">\n",
       "  <thead>\n",
       "    <tr style=\"text-align: right;\">\n",
       "      <th></th>\n",
       "      <th>id</th>\n",
       "      <th>conversation_id</th>\n",
       "      <th>date</th>\n",
       "      <th>username</th>\n",
       "      <th>tweet_processed</th>\n",
       "      <th>hashtags</th>\n",
       "      <th>tweet_original</th>\n",
       "      <th>target</th>\n",
       "    </tr>\n",
       "  </thead>\n",
       "  <tbody>\n",
       "    <tr>\n",
       "      <th>0</th>\n",
       "      <td>1079889364358975494</td>\n",
       "      <td>1079889364358975494</td>\n",
       "      <td>2018-12-31</td>\n",
       "      <td>depressediniowa</td>\n",
       "      <td>I am afraid of death.  I don't want to die.  Yet this still does not motivate me to do things I enjoy.  Die happy, or die sad.  Either way, you die so what's the point?</td>\n",
       "      <td>['depression', 'depressed', 'depressedthoughts']</td>\n",
       "      <td>I am afraid of death.  I don't want to die.  Yet this still does not motivate me to do things I enjoy.  Die happy, or die sad.  Either way, you die so what's the point?  #depression #depressed #depressedthoughts</td>\n",
       "      <td>1</td>\n",
       "    </tr>\n",
       "    <tr>\n",
       "      <th>1</th>\n",
       "      <td>1079888935457882113</td>\n",
       "      <td>1076269087943057408</td>\n",
       "      <td>2018-12-31</td>\n",
       "      <td>mo_loves</td>\n",
       "      <td>@Sia I wish I’d known I could write about myself...😞 I’m always too late for everything, miss out on everything...my gahd. My life... Anyway, have a Happy New Year. Here’s to hoping next year will be better...</td>\n",
       "      <td>['depression']</td>\n",
       "      <td>@Sia I wish I’d known I could write about myself...😞 I’m always too late for everything, miss out on everything...my gahd. My life... Anyway, have a Happy New Year. Here’s to hoping next year will be better... #depression</td>\n",
       "      <td>1</td>\n",
       "    </tr>\n",
       "    <tr>\n",
       "      <th>2</th>\n",
       "      <td>1079886706675994631</td>\n",
       "      <td>1079886706675994631</td>\n",
       "      <td>2018-12-31</td>\n",
       "      <td>1houratatime</td>\n",
       "      <td>1 eye is smaller than the other. My lips so imperfect. I was so thin 20 years ago, and today I’m so into the opposite. But I love who I am.  For all us, warriors against   and  For a better, healthier, blessed 2019! 🍷  https://t.co/7pAXGpvfgJ</td>\n",
       "      <td>['depression', 'anxiety', 'ehlersdanlossyndrome', 'happy2019']</td>\n",
       "      <td>1 eye is smaller than the other. My lips so imperfect. I was so thin 20 years ago, and today I’m so into the opposite. But I love who I am.  For all us, warriors against #depression #anxiety and #ehlersdanlossyndrome For a better, healthier, blessed 2019! 🍷#Happy2019  https://t.co/7pAXGpvfgJ</td>\n",
       "      <td>1</td>\n",
       "    </tr>\n",
       "    <tr>\n",
       "      <th>3</th>\n",
       "      <td>1079886355885367297</td>\n",
       "      <td>1079886355885367297</td>\n",
       "      <td>2018-12-31</td>\n",
       "      <td>thecou_ch</td>\n",
       "      <td>I’m fed up.. I’ve been married to a drug and alcohol abuser for 2 ...     https://t.co/cE4CWm0rr5</td>\n",
       "      <td>['psychology', 'depression', 'mentalhealth']</td>\n",
       "      <td>I’m fed up.. I’ve been married to a drug and alcohol abuser for 2 ... #Psychology #Depression #Mentalhealth  https://t.co/cE4CWm0rr5</td>\n",
       "      <td>1</td>\n",
       "    </tr>\n",
       "    <tr>\n",
       "      <th>4</th>\n",
       "      <td>1079886121931235328</td>\n",
       "      <td>1079886121931235328</td>\n",
       "      <td>2018-12-31</td>\n",
       "      <td>griffinhearts</td>\n",
       "      <td>It’s no wonder so many of us feel so shitty so often with various types of  &amp;amp;  because from a certain perspective we are all walking tragedies!  Apparently the source of all creation resides within us &amp;amp; we just don’t notice it!  LMAO!!!  !</td>\n",
       "      <td>['anxiety', 'depression', '3chordsandthetruth']</td>\n",
       "      <td>It’s no wonder so many of us feel so shitty so often with various types of #Anxiety &amp;amp; #Depression because from a certain perspective we are all walking tragedies!  Apparently the source of all creation resides within us &amp;amp; we just don’t notice it!  LMAO!!!  #3ChordsandTheTruth!</td>\n",
       "      <td>1</td>\n",
       "    </tr>\n",
       "    <tr>\n",
       "      <th>...</th>\n",
       "      <td>...</td>\n",
       "      <td>...</td>\n",
       "      <td>...</td>\n",
       "      <td>...</td>\n",
       "      <td>...</td>\n",
       "      <td>...</td>\n",
       "      <td>...</td>\n",
       "      <td>...</td>\n",
       "    </tr>\n",
       "    <tr>\n",
       "      <th>8097</th>\n",
       "      <td>1184757738687127553</td>\n",
       "      <td>1184757738687127553</td>\n",
       "      <td>2019-10-17</td>\n",
       "      <td>recover2renew</td>\n",
       "      <td>What is mediction-induced ? And why is it so important to recognise - esp. when starting, stopping, changing meds such as  ... For more info about see  https://t.co/8vioTaAZN7      https://t.co/E8egmVI9Tm</td>\n",
       "      <td>['akathisia', 'antidepressants', 'itsgoodtotalk', 'everylifematters', 'suicideprevention']</td>\n",
       "      <td>What is mediction-induced #akathisia? And why is it so important to recognise - esp. when starting, stopping, changing meds such as #antidepressants ... For more info about see  https://t.co/8vioTaAZN7 #itsgoodtotalk #everylifematters #suicideprevention   https://t.co/E8egmVI9Tm</td>\n",
       "      <td>1</td>\n",
       "    </tr>\n",
       "    <tr>\n",
       "      <th>8098</th>\n",
       "      <td>1184731310100754432</td>\n",
       "      <td>1184731310100754432</td>\n",
       "      <td>2019-10-17</td>\n",
       "      <td>stopticstoday</td>\n",
       "      <td>Treating  Syndrome and  with Self-Hypnosis -  https://t.co/Vtpeendbrz    https://t.co/LUMWYglGYi</td>\n",
       "      <td>['tourette', 'tics', 'antidepressants', 'anxiety']</td>\n",
       "      <td>Treating #Tourette Syndrome and #Tics with Self-Hypnosis -  https://t.co/Vtpeendbrz #Antidepressants #Anxiety  https://t.co/LUMWYglGYi</td>\n",
       "      <td>1</td>\n",
       "    </tr>\n",
       "    <tr>\n",
       "      <th>8099</th>\n",
       "      <td>1184702724920827904</td>\n",
       "      <td>1184598371178299392</td>\n",
       "      <td>2019-10-17</td>\n",
       "      <td>nicholasjohn83</td>\n",
       "      <td>@billkinkle @tomfolanmd \"How to Quit : Very Slowly, Doctors Say.\"  \"Mustering solid evidence, two researchers have denounced the standard psychiatric guidelines for how best to wean patients from depression medications.\"       https://t.co/dGqWwS7VdJ</td>\n",
       "      <td>['antidepressants', 'takenotice', 'depression', 'anxiety', 'medicine']</td>\n",
       "      <td>@billkinkle @tomfolanmd \"How to Quit #antidepressants: Very Slowly, Doctors Say.\"  \"Mustering solid evidence, two researchers have denounced the standard psychiatric guidelines for how best to wean patients from depression medications.\" #takeNOTICE #depression #Anxiety #medicine   https://t.co/dGqWwS7VdJ</td>\n",
       "      <td>1</td>\n",
       "    </tr>\n",
       "    <tr>\n",
       "      <th>8100</th>\n",
       "      <td>1184587281019084801</td>\n",
       "      <td>1184587281019084801</td>\n",
       "      <td>2019-10-16</td>\n",
       "      <td>coyssince84</td>\n",
       "      <td>Yes have read a lot from Prof Healy about the way they effect emotions and had contact with Prof Healy also read lots from Peter breggins</td>\n",
       "      <td>['antidepressants']</td>\n",
       "      <td>Yes have read a lot from Prof Healy about the way they effect emotions and had contact with Prof Healy also read lots from Peter breggins #antidepressants</td>\n",
       "      <td>1</td>\n",
       "    </tr>\n",
       "    <tr>\n",
       "      <th>8101</th>\n",
       "      <td>1184546930959015936</td>\n",
       "      <td>1184546930959015936</td>\n",
       "      <td>2019-10-16</td>\n",
       "      <td>coyssince84</td>\n",
       "      <td>So glad when I went to the doctors I refused antidepressants if only my wife had done the same    😢😢  https://t.co/AivdJG6UfB</td>\n",
       "      <td>['mentalhealthawareness', 'antidepressants', 'withdrawals']</td>\n",
       "      <td>So glad when I went to the doctors I refused antidepressants if only my wife had done the same #MentalHealthAwareness #antidepressants #withdrawals 😢😢  https://t.co/AivdJG6UfB</td>\n",
       "      <td>1</td>\n",
       "    </tr>\n",
       "  </tbody>\n",
       "</table>\n",
       "<p>8102 rows × 8 columns</p>\n",
       "</div>"
      ],
      "text/plain": [
       "                       id      conversation_id        date         username  \\\n",
       "0     1079889364358975494  1079889364358975494  2018-12-31  depressediniowa   \n",
       "1     1079888935457882113  1076269087943057408  2018-12-31         mo_loves   \n",
       "2     1079886706675994631  1079886706675994631  2018-12-31     1houratatime   \n",
       "3     1079886355885367297  1079886355885367297  2018-12-31        thecou_ch   \n",
       "4     1079886121931235328  1079886121931235328  2018-12-31    griffinhearts   \n",
       "...                   ...                  ...         ...              ...   \n",
       "8097  1184757738687127553  1184757738687127553  2019-10-17    recover2renew   \n",
       "8098  1184731310100754432  1184731310100754432  2019-10-17    stopticstoday   \n",
       "8099  1184702724920827904  1184598371178299392  2019-10-17   nicholasjohn83   \n",
       "8100  1184587281019084801  1184587281019084801  2019-10-16      coyssince84   \n",
       "8101  1184546930959015936  1184546930959015936  2019-10-16      coyssince84   \n",
       "\n",
       "                                                                                                                                                                                                                                                 tweet_processed  \\\n",
       "0                                                                                   I am afraid of death.  I don't want to die.  Yet this still does not motivate me to do things I enjoy.  Die happy, or die sad.  Either way, you die so what's the point?       \n",
       "1                                             @Sia I wish I’d known I could write about myself...😞 I’m always too late for everything, miss out on everything...my gahd. My life... Anyway, have a Happy New Year. Here’s to hoping next year will be better...    \n",
       "2             1 eye is smaller than the other. My lips so imperfect. I was so thin 20 years ago, and today I’m so into the opposite. But I love who I am.  For all us, warriors against   and  For a better, healthier, blessed 2019! 🍷  https://t.co/7pAXGpvfgJ   \n",
       "3                                                                                                                                                              I’m fed up.. I’ve been married to a drug and alcohol abuser for 2 ...     https://t.co/cE4CWm0rr5   \n",
       "4        It’s no wonder so many of us feel so shitty so often with various types of  &amp;  because from a certain perspective we are all walking tragedies!  Apparently the source of all creation resides within us &amp; we just don’t notice it!  LMAO!!!  !   \n",
       "...                                                                                                                                                                                                                                                          ...   \n",
       "8097                                                What is mediction-induced ? And why is it so important to recognise - esp. when starting, stopping, changing meds such as  ... For more info about see  https://t.co/8vioTaAZN7      https://t.co/E8egmVI9Tm   \n",
       "8098                                                                                                                                                            Treating  Syndrome and  with Self-Hypnosis -  https://t.co/Vtpeendbrz    https://t.co/LUMWYglGYi   \n",
       "8099  @billkinkle @tomfolanmd \"How to Quit : Very Slowly, Doctors Say.\"  \"Mustering solid evidence, two researchers have denounced the standard psychiatric guidelines for how best to wean patients from depression medications.\"       https://t.co/dGqWwS7VdJ   \n",
       "8100                                                                                                                  Yes have read a lot from Prof Healy about the way they effect emotions and had contact with Prof Healy also read lots from Peter breggins    \n",
       "8101                                                                                                                               So glad when I went to the doctors I refused antidepressants if only my wife had done the same    😢😢  https://t.co/AivdJG6UfB   \n",
       "\n",
       "                                                                                        hashtags  \\\n",
       "0                                               ['depression', 'depressed', 'depressedthoughts']   \n",
       "1                                                                                 ['depression']   \n",
       "2                                 ['depression', 'anxiety', 'ehlersdanlossyndrome', 'happy2019']   \n",
       "3                                                   ['psychology', 'depression', 'mentalhealth']   \n",
       "4                                                ['anxiety', 'depression', '3chordsandthetruth']   \n",
       "...                                                                                          ...   \n",
       "8097  ['akathisia', 'antidepressants', 'itsgoodtotalk', 'everylifematters', 'suicideprevention']   \n",
       "8098                                          ['tourette', 'tics', 'antidepressants', 'anxiety']   \n",
       "8099                      ['antidepressants', 'takenotice', 'depression', 'anxiety', 'medicine']   \n",
       "8100                                                                         ['antidepressants']   \n",
       "8101                                 ['mentalhealthawareness', 'antidepressants', 'withdrawals']   \n",
       "\n",
       "                                                                                                                                                                                                                                                                                                         tweet_original  \\\n",
       "0                                                                                                   I am afraid of death.  I don't want to die.  Yet this still does not motivate me to do things I enjoy.  Die happy, or die sad.  Either way, you die so what's the point?  #depression #depressed #depressedthoughts   \n",
       "1                                                                                         @Sia I wish I’d known I could write about myself...😞 I’m always too late for everything, miss out on everything...my gahd. My life... Anyway, have a Happy New Year. Here’s to hoping next year will be better... #depression   \n",
       "2                  1 eye is smaller than the other. My lips so imperfect. I was so thin 20 years ago, and today I’m so into the opposite. But I love who I am.  For all us, warriors against #depression #anxiety and #ehlersdanlossyndrome For a better, healthier, blessed 2019! 🍷#Happy2019  https://t.co/7pAXGpvfgJ   \n",
       "3                                                                                                                                                                                  I’m fed up.. I’ve been married to a drug and alcohol abuser for 2 ... #Psychology #Depression #Mentalhealth  https://t.co/cE4CWm0rr5   \n",
       "4                         It’s no wonder so many of us feel so shitty so often with various types of #Anxiety &amp; #Depression because from a certain perspective we are all walking tragedies!  Apparently the source of all creation resides within us &amp; we just don’t notice it!  LMAO!!!  #3ChordsandTheTruth!   \n",
       "...                                                                                                                                                                                                                                                                                                                 ...   \n",
       "8097                            What is mediction-induced #akathisia? And why is it so important to recognise - esp. when starting, stopping, changing meds such as #antidepressants ... For more info about see  https://t.co/8vioTaAZN7 #itsgoodtotalk #everylifematters #suicideprevention   https://t.co/E8egmVI9Tm   \n",
       "8098                                                                                                                                                                             Treating #Tourette Syndrome and #Tics with Self-Hypnosis -  https://t.co/Vtpeendbrz #Antidepressants #Anxiety  https://t.co/LUMWYglGYi   \n",
       "8099  @billkinkle @tomfolanmd \"How to Quit #antidepressants: Very Slowly, Doctors Say.\"  \"Mustering solid evidence, two researchers have denounced the standard psychiatric guidelines for how best to wean patients from depression medications.\" #takeNOTICE #depression #Anxiety #medicine   https://t.co/dGqWwS7VdJ   \n",
       "8100                                                                                                                                                         Yes have read a lot from Prof Healy about the way they effect emotions and had contact with Prof Healy also read lots from Peter breggins #antidepressants   \n",
       "8101                                                                                                                                    So glad when I went to the doctors I refused antidepressants if only my wife had done the same #MentalHealthAwareness #antidepressants #withdrawals 😢😢  https://t.co/AivdJG6UfB   \n",
       "\n",
       "      target  \n",
       "0          1  \n",
       "1          1  \n",
       "2          1  \n",
       "3          1  \n",
       "4          1  \n",
       "...      ...  \n",
       "8097       1  \n",
       "8098       1  \n",
       "8099       1  \n",
       "8100       1  \n",
       "8101       1  \n",
       "\n",
       "[8102 rows x 8 columns]"
      ]
     },
     "execution_count": 54,
     "metadata": {},
     "output_type": "execute_result"
    }
   ],
   "source": [
    "df_final1"
   ]
  },
  {
   "cell_type": "code",
   "execution_count": 55,
   "id": "b7ba398f",
   "metadata": {},
   "outputs": [],
   "source": [
    "df_final1.to_csv(\"./depressed_tweets_cleaned.csv\")"
   ]
  },
  {
   "cell_type": "code",
   "execution_count": null,
   "id": "b8bab396",
   "metadata": {},
   "outputs": [],
   "source": []
  }
 ],
 "metadata": {
  "kernelspec": {
   "display_name": "Python 3",
   "language": "python",
   "name": "python3"
  },
  "language_info": {
   "codemirror_mode": {
    "name": "ipython",
    "version": 3
   },
   "file_extension": ".py",
   "mimetype": "text/x-python",
   "name": "python",
   "nbconvert_exporter": "python",
   "pygments_lexer": "ipython3",
   "version": "3.8.0"
  }
 },
 "nbformat": 4,
 "nbformat_minor": 5
}
