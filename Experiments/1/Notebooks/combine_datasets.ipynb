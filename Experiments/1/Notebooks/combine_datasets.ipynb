{
 "cells": [
  {
   "cell_type": "code",
   "execution_count": 1,
   "id": "cb0ea78b",
   "metadata": {},
   "outputs": [],
   "source": [
    "import pandas as pd"
   ]
  },
  {
   "cell_type": "code",
   "execution_count": 2,
   "id": "59fda160",
   "metadata": {},
   "outputs": [],
   "source": [
    "path = \"./cleaned/\"\n",
    "neg = pd.read_csv(path + \"depressed_cleaned.csv\")\n",
    "pos = pd.read_csv(path + \"non_depressed_cleaned.csv\")"
   ]
  },
  {
   "cell_type": "code",
   "execution_count": 3,
   "id": "299833ee",
   "metadata": {},
   "outputs": [
    {
     "data": {
      "text/html": [
       "<div>\n",
       "<style scoped>\n",
       "    .dataframe tbody tr th:only-of-type {\n",
       "        vertical-align: middle;\n",
       "    }\n",
       "\n",
       "    .dataframe tbody tr th {\n",
       "        vertical-align: top;\n",
       "    }\n",
       "\n",
       "    .dataframe thead th {\n",
       "        text-align: right;\n",
       "    }\n",
       "</style>\n",
       "<table border=\"1\" class=\"dataframe\">\n",
       "  <thead>\n",
       "    <tr style=\"text-align: right;\">\n",
       "      <th></th>\n",
       "      <th>Unnamed: 0</th>\n",
       "      <th>target</th>\n",
       "      <th>tweet_cleaned</th>\n",
       "    </tr>\n",
       "  </thead>\n",
       "  <tbody>\n",
       "    <tr>\n",
       "      <th>0</th>\n",
       "      <td>0</td>\n",
       "      <td>0</td>\n",
       "      <td>omg its already       O</td>\n",
       "    </tr>\n",
       "    <tr>\n",
       "      <th>1</th>\n",
       "      <td>1</td>\n",
       "      <td>0</td>\n",
       "      <td>Juuuuuuuuuuuuuuuuussssst Chillin</td>\n",
       "    </tr>\n",
       "    <tr>\n",
       "      <th>2</th>\n",
       "      <td>2</td>\n",
       "      <td>0</td>\n",
       "      <td>handed in my uniform today   i miss you ...</td>\n",
       "    </tr>\n",
       "    <tr>\n",
       "      <th>3</th>\n",
       "      <td>3</td>\n",
       "      <td>0</td>\n",
       "      <td>hmmmm     i wonder how she my number</td>\n",
       "    </tr>\n",
       "    <tr>\n",
       "      <th>4</th>\n",
       "      <td>4</td>\n",
       "      <td>0</td>\n",
       "      <td>thanks to all the haters up in my face a...</td>\n",
       "    </tr>\n",
       "  </tbody>\n",
       "</table>\n",
       "</div>"
      ],
      "text/plain": [
       "   Unnamed: 0  target                                      tweet_cleaned\n",
       "0           0       0                            omg its already       O\n",
       "1           1       0                 Juuuuuuuuuuuuuuuuussssst Chillin  \n",
       "2           2       0        handed in my uniform today   i miss you ...\n",
       "3           3       0            hmmmm     i wonder how she my number   \n",
       "4           4       0        thanks to all the haters up in my face a..."
      ]
     },
     "execution_count": 3,
     "metadata": {},
     "output_type": "execute_result"
    }
   ],
   "source": [
    "pos.head()"
   ]
  },
  {
   "cell_type": "code",
   "execution_count": 4,
   "id": "9d5e13e8",
   "metadata": {},
   "outputs": [
    {
     "data": {
      "text/html": [
       "<div>\n",
       "<style scoped>\n",
       "    .dataframe tbody tr th:only-of-type {\n",
       "        vertical-align: middle;\n",
       "    }\n",
       "\n",
       "    .dataframe tbody tr th {\n",
       "        vertical-align: top;\n",
       "    }\n",
       "\n",
       "    .dataframe thead th {\n",
       "        text-align: right;\n",
       "    }\n",
       "</style>\n",
       "<table border=\"1\" class=\"dataframe\">\n",
       "  <thead>\n",
       "    <tr style=\"text-align: right;\">\n",
       "      <th></th>\n",
       "      <th>Unnamed: 0</th>\n",
       "      <th>id</th>\n",
       "      <th>conversation_id</th>\n",
       "      <th>date</th>\n",
       "      <th>username</th>\n",
       "      <th>tweet_processed</th>\n",
       "      <th>hashtags</th>\n",
       "      <th>tweet_original</th>\n",
       "      <th>target</th>\n",
       "    </tr>\n",
       "  </thead>\n",
       "  <tbody>\n",
       "    <tr>\n",
       "      <th>0</th>\n",
       "      <td>0</td>\n",
       "      <td>1.079889e+18</td>\n",
       "      <td>1.079889e+18</td>\n",
       "      <td>2018-12-31</td>\n",
       "      <td>depressediniowa</td>\n",
       "      <td>I am afraid of death.  I don't want to die.  Y...</td>\n",
       "      <td>['depression', 'depressed', 'depressedthoughts']</td>\n",
       "      <td>I am afraid of death.  I don't want to die.  Y...</td>\n",
       "      <td>1</td>\n",
       "    </tr>\n",
       "    <tr>\n",
       "      <th>1</th>\n",
       "      <td>1</td>\n",
       "      <td>1.079889e+18</td>\n",
       "      <td>1.076269e+18</td>\n",
       "      <td>2018-12-31</td>\n",
       "      <td>mo_loves</td>\n",
       "      <td>@Sia I wish I’d known I could write about myse...</td>\n",
       "      <td>['depression']</td>\n",
       "      <td>@Sia I wish I’d known I could write about myse...</td>\n",
       "      <td>1</td>\n",
       "    </tr>\n",
       "    <tr>\n",
       "      <th>2</th>\n",
       "      <td>2</td>\n",
       "      <td>1.079887e+18</td>\n",
       "      <td>1.079887e+18</td>\n",
       "      <td>2018-12-31</td>\n",
       "      <td>1houratatime</td>\n",
       "      <td>1 eye is smaller than the other. My lips so im...</td>\n",
       "      <td>['depression', 'anxiety', 'ehlersdanlossyndrom...</td>\n",
       "      <td>1 eye is smaller than the other. My lips so im...</td>\n",
       "      <td>1</td>\n",
       "    </tr>\n",
       "    <tr>\n",
       "      <th>3</th>\n",
       "      <td>3</td>\n",
       "      <td>1.079886e+18</td>\n",
       "      <td>1.079886e+18</td>\n",
       "      <td>2018-12-31</td>\n",
       "      <td>thecou_ch</td>\n",
       "      <td>I’m fed up.. I’ve been married to a drug and a...</td>\n",
       "      <td>['psychology', 'depression', 'mentalhealth']</td>\n",
       "      <td>I’m fed up.. I’ve been married to a drug and a...</td>\n",
       "      <td>1</td>\n",
       "    </tr>\n",
       "    <tr>\n",
       "      <th>4</th>\n",
       "      <td>4</td>\n",
       "      <td>1.079886e+18</td>\n",
       "      <td>1.079886e+18</td>\n",
       "      <td>2018-12-31</td>\n",
       "      <td>griffinhearts</td>\n",
       "      <td>It’s no wonder so many of us feel so shitty so...</td>\n",
       "      <td>['anxiety', 'depression', '3chordsandthetruth']</td>\n",
       "      <td>It’s no wonder so many of us feel so shitty so...</td>\n",
       "      <td>1</td>\n",
       "    </tr>\n",
       "  </tbody>\n",
       "</table>\n",
       "</div>"
      ],
      "text/plain": [
       "   Unnamed: 0            id  conversation_id        date         username  \\\n",
       "0           0  1.079889e+18     1.079889e+18  2018-12-31  depressediniowa   \n",
       "1           1  1.079889e+18     1.076269e+18  2018-12-31         mo_loves   \n",
       "2           2  1.079887e+18     1.079887e+18  2018-12-31     1houratatime   \n",
       "3           3  1.079886e+18     1.079886e+18  2018-12-31        thecou_ch   \n",
       "4           4  1.079886e+18     1.079886e+18  2018-12-31    griffinhearts   \n",
       "\n",
       "                                     tweet_processed  \\\n",
       "0  I am afraid of death.  I don't want to die.  Y...   \n",
       "1  @Sia I wish I’d known I could write about myse...   \n",
       "2  1 eye is smaller than the other. My lips so im...   \n",
       "3  I’m fed up.. I’ve been married to a drug and a...   \n",
       "4  It’s no wonder so many of us feel so shitty so...   \n",
       "\n",
       "                                            hashtags  \\\n",
       "0   ['depression', 'depressed', 'depressedthoughts']   \n",
       "1                                     ['depression']   \n",
       "2  ['depression', 'anxiety', 'ehlersdanlossyndrom...   \n",
       "3       ['psychology', 'depression', 'mentalhealth']   \n",
       "4    ['anxiety', 'depression', '3chordsandthetruth']   \n",
       "\n",
       "                                      tweet_original  target  \n",
       "0  I am afraid of death.  I don't want to die.  Y...       1  \n",
       "1  @Sia I wish I’d known I could write about myse...       1  \n",
       "2  1 eye is smaller than the other. My lips so im...       1  \n",
       "3  I’m fed up.. I’ve been married to a drug and a...       1  \n",
       "4  It’s no wonder so many of us feel so shitty so...       1  "
      ]
     },
     "execution_count": 4,
     "metadata": {},
     "output_type": "execute_result"
    }
   ],
   "source": [
    "neg.head()"
   ]
  },
  {
   "cell_type": "code",
   "execution_count": 5,
   "id": "36244d88",
   "metadata": {},
   "outputs": [
    {
     "data": {
      "text/plain": [
       "Index(['Unnamed: 0', 'target', 'tweet_cleaned'], dtype='object')"
      ]
     },
     "execution_count": 5,
     "metadata": {},
     "output_type": "execute_result"
    }
   ],
   "source": [
    "pos.columns"
   ]
  },
  {
   "cell_type": "code",
   "execution_count": 6,
   "id": "2c0647f2",
   "metadata": {},
   "outputs": [
    {
     "data": {
      "text/plain": [
       "Index(['Unnamed: 0', 'id', 'conversation_id', 'date', 'username',\n",
       "       'tweet_processed', 'hashtags', 'tweet_original', 'target'],\n",
       "      dtype='object')"
      ]
     },
     "execution_count": 6,
     "metadata": {},
     "output_type": "execute_result"
    }
   ],
   "source": [
    "neg.columns"
   ]
  },
  {
   "cell_type": "code",
   "execution_count": 7,
   "id": "6435d1d2",
   "metadata": {},
   "outputs": [],
   "source": [
    "neg = neg.drop(['Unnamed: 0', 'id', 'conversation_id', 'date', 'username', 'hashtags',  \\\n",
    "         'tweet_original'], axis=1)"
   ]
  },
  {
   "cell_type": "code",
   "execution_count": 8,
   "id": "d4ee8ecb",
   "metadata": {},
   "outputs": [
    {
     "data": {
      "text/html": [
       "<div>\n",
       "<style scoped>\n",
       "    .dataframe tbody tr th:only-of-type {\n",
       "        vertical-align: middle;\n",
       "    }\n",
       "\n",
       "    .dataframe tbody tr th {\n",
       "        vertical-align: top;\n",
       "    }\n",
       "\n",
       "    .dataframe thead th {\n",
       "        text-align: right;\n",
       "    }\n",
       "</style>\n",
       "<table border=\"1\" class=\"dataframe\">\n",
       "  <thead>\n",
       "    <tr style=\"text-align: right;\">\n",
       "      <th></th>\n",
       "      <th>tweet_processed</th>\n",
       "      <th>target</th>\n",
       "    </tr>\n",
       "  </thead>\n",
       "  <tbody>\n",
       "    <tr>\n",
       "      <th>0</th>\n",
       "      <td>I am afraid of death.  I don't want to die.  Y...</td>\n",
       "      <td>1</td>\n",
       "    </tr>\n",
       "    <tr>\n",
       "      <th>1</th>\n",
       "      <td>@Sia I wish I’d known I could write about myse...</td>\n",
       "      <td>1</td>\n",
       "    </tr>\n",
       "    <tr>\n",
       "      <th>2</th>\n",
       "      <td>1 eye is smaller than the other. My lips so im...</td>\n",
       "      <td>1</td>\n",
       "    </tr>\n",
       "    <tr>\n",
       "      <th>3</th>\n",
       "      <td>I’m fed up.. I’ve been married to a drug and a...</td>\n",
       "      <td>1</td>\n",
       "    </tr>\n",
       "    <tr>\n",
       "      <th>4</th>\n",
       "      <td>It’s no wonder so many of us feel so shitty so...</td>\n",
       "      <td>1</td>\n",
       "    </tr>\n",
       "  </tbody>\n",
       "</table>\n",
       "</div>"
      ],
      "text/plain": [
       "                                     tweet_processed  target\n",
       "0  I am afraid of death.  I don't want to die.  Y...       1\n",
       "1  @Sia I wish I’d known I could write about myse...       1\n",
       "2  1 eye is smaller than the other. My lips so im...       1\n",
       "3  I’m fed up.. I’ve been married to a drug and a...       1\n",
       "4  It’s no wonder so many of us feel so shitty so...       1"
      ]
     },
     "execution_count": 8,
     "metadata": {},
     "output_type": "execute_result"
    }
   ],
   "source": [
    "neg.head()"
   ]
  },
  {
   "cell_type": "code",
   "execution_count": 9,
   "id": "f6c0eaa9",
   "metadata": {},
   "outputs": [
    {
     "data": {
      "text/html": [
       "<div>\n",
       "<style scoped>\n",
       "    .dataframe tbody tr th:only-of-type {\n",
       "        vertical-align: middle;\n",
       "    }\n",
       "\n",
       "    .dataframe tbody tr th {\n",
       "        vertical-align: top;\n",
       "    }\n",
       "\n",
       "    .dataframe thead th {\n",
       "        text-align: right;\n",
       "    }\n",
       "</style>\n",
       "<table border=\"1\" class=\"dataframe\">\n",
       "  <thead>\n",
       "    <tr style=\"text-align: right;\">\n",
       "      <th></th>\n",
       "      <th>tweet</th>\n",
       "      <th>target</th>\n",
       "    </tr>\n",
       "  </thead>\n",
       "  <tbody>\n",
       "    <tr>\n",
       "      <th>0</th>\n",
       "      <td>I am afraid of death.  I don't want to die.  Y...</td>\n",
       "      <td>1</td>\n",
       "    </tr>\n",
       "    <tr>\n",
       "      <th>1</th>\n",
       "      <td>@Sia I wish I’d known I could write about myse...</td>\n",
       "      <td>1</td>\n",
       "    </tr>\n",
       "    <tr>\n",
       "      <th>2</th>\n",
       "      <td>1 eye is smaller than the other. My lips so im...</td>\n",
       "      <td>1</td>\n",
       "    </tr>\n",
       "    <tr>\n",
       "      <th>3</th>\n",
       "      <td>I’m fed up.. I’ve been married to a drug and a...</td>\n",
       "      <td>1</td>\n",
       "    </tr>\n",
       "    <tr>\n",
       "      <th>4</th>\n",
       "      <td>It’s no wonder so many of us feel so shitty so...</td>\n",
       "      <td>1</td>\n",
       "    </tr>\n",
       "  </tbody>\n",
       "</table>\n",
       "</div>"
      ],
      "text/plain": [
       "                                               tweet  target\n",
       "0  I am afraid of death.  I don't want to die.  Y...       1\n",
       "1  @Sia I wish I’d known I could write about myse...       1\n",
       "2  1 eye is smaller than the other. My lips so im...       1\n",
       "3  I’m fed up.. I’ve been married to a drug and a...       1\n",
       "4  It’s no wonder so many of us feel so shitty so...       1"
      ]
     },
     "execution_count": 9,
     "metadata": {},
     "output_type": "execute_result"
    }
   ],
   "source": [
    "neg.rename(columns={'tweet_processed':'tweet'}, inplace=True)\n",
    "neg.head()"
   ]
  },
  {
   "cell_type": "code",
   "execution_count": 10,
   "id": "48593341",
   "metadata": {},
   "outputs": [],
   "source": [
    "pos = pos.drop([\"Unnamed: 0\"], axis=1)\n",
    "pos.rename(columns={'tweet_cleaned':'tweet'}, inplace=True)"
   ]
  },
  {
   "cell_type": "code",
   "execution_count": 11,
   "id": "c4749999",
   "metadata": {},
   "outputs": [
    {
     "data": {
      "text/html": [
       "<div>\n",
       "<style scoped>\n",
       "    .dataframe tbody tr th:only-of-type {\n",
       "        vertical-align: middle;\n",
       "    }\n",
       "\n",
       "    .dataframe tbody tr th {\n",
       "        vertical-align: top;\n",
       "    }\n",
       "\n",
       "    .dataframe thead th {\n",
       "        text-align: right;\n",
       "    }\n",
       "</style>\n",
       "<table border=\"1\" class=\"dataframe\">\n",
       "  <thead>\n",
       "    <tr style=\"text-align: right;\">\n",
       "      <th></th>\n",
       "      <th>target</th>\n",
       "      <th>tweet</th>\n",
       "    </tr>\n",
       "  </thead>\n",
       "  <tbody>\n",
       "    <tr>\n",
       "      <th>0</th>\n",
       "      <td>0</td>\n",
       "      <td>omg its already       O</td>\n",
       "    </tr>\n",
       "    <tr>\n",
       "      <th>1</th>\n",
       "      <td>0</td>\n",
       "      <td>Juuuuuuuuuuuuuuuuussssst Chillin</td>\n",
       "    </tr>\n",
       "    <tr>\n",
       "      <th>2</th>\n",
       "      <td>0</td>\n",
       "      <td>handed in my uniform today   i miss you ...</td>\n",
       "    </tr>\n",
       "    <tr>\n",
       "      <th>3</th>\n",
       "      <td>0</td>\n",
       "      <td>hmmmm     i wonder how she my number</td>\n",
       "    </tr>\n",
       "    <tr>\n",
       "      <th>4</th>\n",
       "      <td>0</td>\n",
       "      <td>thanks to all the haters up in my face a...</td>\n",
       "    </tr>\n",
       "  </tbody>\n",
       "</table>\n",
       "</div>"
      ],
      "text/plain": [
       "   target                                              tweet\n",
       "0       0                            omg its already       O\n",
       "1       0                 Juuuuuuuuuuuuuuuuussssst Chillin  \n",
       "2       0        handed in my uniform today   i miss you ...\n",
       "3       0            hmmmm     i wonder how she my number   \n",
       "4       0        thanks to all the haters up in my face a..."
      ]
     },
     "execution_count": 11,
     "metadata": {},
     "output_type": "execute_result"
    }
   ],
   "source": [
    "pos.head()"
   ]
  },
  {
   "cell_type": "code",
   "execution_count": 12,
   "id": "aee28069",
   "metadata": {},
   "outputs": [
    {
     "data": {
      "text/html": [
       "<div>\n",
       "<style scoped>\n",
       "    .dataframe tbody tr th:only-of-type {\n",
       "        vertical-align: middle;\n",
       "    }\n",
       "\n",
       "    .dataframe tbody tr th {\n",
       "        vertical-align: top;\n",
       "    }\n",
       "\n",
       "    .dataframe thead th {\n",
       "        text-align: right;\n",
       "    }\n",
       "</style>\n",
       "<table border=\"1\" class=\"dataframe\">\n",
       "  <thead>\n",
       "    <tr style=\"text-align: right;\">\n",
       "      <th></th>\n",
       "      <th>tweet</th>\n",
       "      <th>target</th>\n",
       "    </tr>\n",
       "  </thead>\n",
       "  <tbody>\n",
       "    <tr>\n",
       "      <th>0</th>\n",
       "      <td>omg its already       O</td>\n",
       "      <td>0</td>\n",
       "    </tr>\n",
       "    <tr>\n",
       "      <th>1</th>\n",
       "      <td>Juuuuuuuuuuuuuuuuussssst Chillin</td>\n",
       "      <td>0</td>\n",
       "    </tr>\n",
       "    <tr>\n",
       "      <th>2</th>\n",
       "      <td>handed in my uniform today   i miss you ...</td>\n",
       "      <td>0</td>\n",
       "    </tr>\n",
       "    <tr>\n",
       "      <th>3</th>\n",
       "      <td>hmmmm     i wonder how she my number</td>\n",
       "      <td>0</td>\n",
       "    </tr>\n",
       "    <tr>\n",
       "      <th>4</th>\n",
       "      <td>thanks to all the haters up in my face a...</td>\n",
       "      <td>0</td>\n",
       "    </tr>\n",
       "    <tr>\n",
       "      <th>...</th>\n",
       "      <td>...</td>\n",
       "      <td>...</td>\n",
       "    </tr>\n",
       "    <tr>\n",
       "      <th>4995</th>\n",
       "      <td>courtneynewton  OMG SHUT UP     sorry  still ...</td>\n",
       "      <td>0</td>\n",
       "    </tr>\n",
       "    <tr>\n",
       "      <th>4996</th>\n",
       "      <td>CoxRocks  Ha  the lead singer gave me a high ...</td>\n",
       "      <td>0</td>\n",
       "    </tr>\n",
       "    <tr>\n",
       "      <th>4997</th>\n",
       "      <td>danielleejonas  UGH  i love tila  haters need...</td>\n",
       "      <td>0</td>\n",
       "    </tr>\n",
       "    <tr>\n",
       "      <th>4998</th>\n",
       "      <td>ericholscher  Note to self  Ctrl D   Page Up ...</td>\n",
       "      <td>0</td>\n",
       "    </tr>\n",
       "    <tr>\n",
       "      <th>4999</th>\n",
       "      <td>FTSKim     on my term paper  suck my nuts</td>\n",
       "      <td>0</td>\n",
       "    </tr>\n",
       "  </tbody>\n",
       "</table>\n",
       "<p>5000 rows × 2 columns</p>\n",
       "</div>"
      ],
      "text/plain": [
       "                                                  tweet  target\n",
       "0                               omg its already       O       0\n",
       "1                    Juuuuuuuuuuuuuuuuussssst Chillin         0\n",
       "2           handed in my uniform today   i miss you ...       0\n",
       "3               hmmmm     i wonder how she my number          0\n",
       "4           thanks to all the haters up in my face a...       0\n",
       "...                                                 ...     ...\n",
       "4995   courtneynewton  OMG SHUT UP     sorry  still ...       0\n",
       "4996   CoxRocks  Ha  the lead singer gave me a high ...       0\n",
       "4997   danielleejonas  UGH  i love tila  haters need...       0\n",
       "4998   ericholscher  Note to self  Ctrl D   Page Up ...       0\n",
       "4999        FTSKim     on my term paper  suck my nuts         0\n",
       "\n",
       "[5000 rows x 2 columns]"
      ]
     },
     "execution_count": 12,
     "metadata": {},
     "output_type": "execute_result"
    }
   ],
   "source": [
    "tneg = pos\n",
    "cols = ['tweet', 'target']\n",
    "tneg = tneg.reindex(columns=cols)\n",
    "tneg"
   ]
  },
  {
   "cell_type": "code",
   "execution_count": 13,
   "id": "4b11ced4",
   "metadata": {},
   "outputs": [],
   "source": [
    "pos = tneg"
   ]
  },
  {
   "cell_type": "code",
   "execution_count": 14,
   "id": "cb477469",
   "metadata": {},
   "outputs": [
    {
     "name": "stdout",
     "output_type": "stream",
     "text": [
      "8102 5000\n"
     ]
    }
   ],
   "source": [
    "print(len(neg), len(pos))"
   ]
  },
  {
   "cell_type": "code",
   "execution_count": 15,
   "id": "fc4ff12a",
   "metadata": {},
   "outputs": [],
   "source": [
    "combined = pd.concat([pos, neg])"
   ]
  },
  {
   "cell_type": "code",
   "execution_count": 16,
   "id": "cd8de4b1",
   "metadata": {},
   "outputs": [
    {
     "data": {
      "text/html": [
       "<div>\n",
       "<style scoped>\n",
       "    .dataframe tbody tr th:only-of-type {\n",
       "        vertical-align: middle;\n",
       "    }\n",
       "\n",
       "    .dataframe tbody tr th {\n",
       "        vertical-align: top;\n",
       "    }\n",
       "\n",
       "    .dataframe thead th {\n",
       "        text-align: right;\n",
       "    }\n",
       "</style>\n",
       "<table border=\"1\" class=\"dataframe\">\n",
       "  <thead>\n",
       "    <tr style=\"text-align: right;\">\n",
       "      <th></th>\n",
       "      <th>tweet</th>\n",
       "      <th>target</th>\n",
       "    </tr>\n",
       "  </thead>\n",
       "  <tbody>\n",
       "    <tr>\n",
       "      <th>0</th>\n",
       "      <td>omg its already       O</td>\n",
       "      <td>0</td>\n",
       "    </tr>\n",
       "    <tr>\n",
       "      <th>1</th>\n",
       "      <td>Juuuuuuuuuuuuuuuuussssst Chillin</td>\n",
       "      <td>0</td>\n",
       "    </tr>\n",
       "    <tr>\n",
       "      <th>2</th>\n",
       "      <td>handed in my uniform today   i miss you ...</td>\n",
       "      <td>0</td>\n",
       "    </tr>\n",
       "    <tr>\n",
       "      <th>3</th>\n",
       "      <td>hmmmm     i wonder how she my number</td>\n",
       "      <td>0</td>\n",
       "    </tr>\n",
       "    <tr>\n",
       "      <th>4</th>\n",
       "      <td>thanks to all the haters up in my face a...</td>\n",
       "      <td>0</td>\n",
       "    </tr>\n",
       "    <tr>\n",
       "      <th>...</th>\n",
       "      <td>...</td>\n",
       "      <td>...</td>\n",
       "    </tr>\n",
       "    <tr>\n",
       "      <th>8097</th>\n",
       "      <td>What is mediction-induced ? And why is it so i...</td>\n",
       "      <td>1</td>\n",
       "    </tr>\n",
       "    <tr>\n",
       "      <th>8098</th>\n",
       "      <td>Treating  Syndrome and  with Self-Hypnosis -  ...</td>\n",
       "      <td>1</td>\n",
       "    </tr>\n",
       "    <tr>\n",
       "      <th>8099</th>\n",
       "      <td>@billkinkle @tomfolanmd \"How to Quit : Very Sl...</td>\n",
       "      <td>1</td>\n",
       "    </tr>\n",
       "    <tr>\n",
       "      <th>8100</th>\n",
       "      <td>Yes have read a lot from Prof Healy about the ...</td>\n",
       "      <td>1</td>\n",
       "    </tr>\n",
       "    <tr>\n",
       "      <th>8101</th>\n",
       "      <td>So glad when I went to the doctors I refused a...</td>\n",
       "      <td>1</td>\n",
       "    </tr>\n",
       "  </tbody>\n",
       "</table>\n",
       "<p>13102 rows × 2 columns</p>\n",
       "</div>"
      ],
      "text/plain": [
       "                                                  tweet  target\n",
       "0                               omg its already       O       0\n",
       "1                    Juuuuuuuuuuuuuuuuussssst Chillin         0\n",
       "2           handed in my uniform today   i miss you ...       0\n",
       "3               hmmmm     i wonder how she my number          0\n",
       "4           thanks to all the haters up in my face a...       0\n",
       "...                                                 ...     ...\n",
       "8097  What is mediction-induced ? And why is it so i...       1\n",
       "8098  Treating  Syndrome and  with Self-Hypnosis -  ...       1\n",
       "8099  @billkinkle @tomfolanmd \"How to Quit : Very Sl...       1\n",
       "8100  Yes have read a lot from Prof Healy about the ...       1\n",
       "8101  So glad when I went to the doctors I refused a...       1\n",
       "\n",
       "[13102 rows x 2 columns]"
      ]
     },
     "execution_count": 16,
     "metadata": {},
     "output_type": "execute_result"
    }
   ],
   "source": [
    "combined"
   ]
  },
  {
   "cell_type": "code",
   "execution_count": 17,
   "id": "e02ab128",
   "metadata": {},
   "outputs": [],
   "source": [
    "combined = combined.sample(frac=1)"
   ]
  },
  {
   "cell_type": "code",
   "execution_count": 18,
   "id": "eaa2c362",
   "metadata": {},
   "outputs": [
    {
     "data": {
      "text/html": [
       "<div>\n",
       "<style scoped>\n",
       "    .dataframe tbody tr th:only-of-type {\n",
       "        vertical-align: middle;\n",
       "    }\n",
       "\n",
       "    .dataframe tbody tr th {\n",
       "        vertical-align: top;\n",
       "    }\n",
       "\n",
       "    .dataframe thead th {\n",
       "        text-align: right;\n",
       "    }\n",
       "</style>\n",
       "<table border=\"1\" class=\"dataframe\">\n",
       "  <thead>\n",
       "    <tr style=\"text-align: right;\">\n",
       "      <th></th>\n",
       "      <th>tweet</th>\n",
       "      <th>target</th>\n",
       "    </tr>\n",
       "  </thead>\n",
       "  <tbody>\n",
       "    <tr>\n",
       "      <th>5201</th>\n",
       "      <td>Warm wishes for a wonderful holiday and happy ...</td>\n",
       "      <td>1</td>\n",
       "    </tr>\n",
       "    <tr>\n",
       "      <th>3229</th>\n",
       "      <td>from tonight going to  vic fires  Aparently ...</td>\n",
       "      <td>0</td>\n",
       "    </tr>\n",
       "    <tr>\n",
       "      <th>1767</th>\n",
       "      <td>I've just published:  \"Ultimate  Management Gu...</td>\n",
       "      <td>1</td>\n",
       "    </tr>\n",
       "    <tr>\n",
       "      <th>7273</th>\n",
       "      <td>It sucks when you're poor It sucks when you ha...</td>\n",
       "      <td>1</td>\n",
       "    </tr>\n",
       "    <tr>\n",
       "      <th>5014</th>\n",
       "      <td>2019年7月にスタートしたStay Gold✨  小さなスタジオでの デビューイベントから...</td>\n",
       "      <td>1</td>\n",
       "    </tr>\n",
       "  </tbody>\n",
       "</table>\n",
       "</div>"
      ],
      "text/plain": [
       "                                                  tweet  target\n",
       "5201  Warm wishes for a wonderful holiday and happy ...       1\n",
       "3229    from tonight going to  vic fires  Aparently ...       0\n",
       "1767  I've just published:  \"Ultimate  Management Gu...       1\n",
       "7273  It sucks when you're poor It sucks when you ha...       1\n",
       "5014  2019年7月にスタートしたStay Gold✨  小さなスタジオでの デビューイベントから...       1"
      ]
     },
     "execution_count": 18,
     "metadata": {},
     "output_type": "execute_result"
    }
   ],
   "source": [
    "combined.head()"
   ]
  },
  {
   "cell_type": "code",
   "execution_count": 19,
   "id": "05bb4130",
   "metadata": {},
   "outputs": [
    {
     "data": {
      "text/plain": [
       "1    8102\n",
       "0    5000\n",
       "Name: target, dtype: int64"
      ]
     },
     "execution_count": 19,
     "metadata": {},
     "output_type": "execute_result"
    }
   ],
   "source": [
    "combined.target.value_counts()"
   ]
  },
  {
   "cell_type": "code",
   "execution_count": 20,
   "id": "708002a2",
   "metadata": {},
   "outputs": [],
   "source": [
    "combined = combined.reset_index(drop=True)\n",
    "combined.to_csv(\"./cleaned/combined_dataset.csv\")"
   ]
  },
  {
   "cell_type": "code",
   "execution_count": 21,
   "id": "a32bd211",
   "metadata": {},
   "outputs": [
    {
     "data": {
      "text/plain": [
       "'              omg its already       O'"
      ]
     },
     "execution_count": 21,
     "metadata": {},
     "output_type": "execute_result"
    }
   ],
   "source": [
    "pos.tweet[0]"
   ]
  },
  {
   "cell_type": "code",
   "execution_count": 22,
   "id": "12a534ce",
   "metadata": {},
   "outputs": [
    {
     "data": {
      "text/plain": [
       "'@Sia I wish I’d known I could write about myself...😞 I’m always too late for everything, miss out on everything...my gahd. My life... Anyway, have a Happy New Year. Here’s to hoping next year will be better... '"
      ]
     },
     "execution_count": 22,
     "metadata": {},
     "output_type": "execute_result"
    }
   ],
   "source": [
    "neg.tweet[1]"
   ]
  },
  {
   "cell_type": "code",
   "execution_count": 23,
   "id": "8ddc194b",
   "metadata": {},
   "outputs": [
    {
     "data": {
      "text/html": [
       "<div>\n",
       "<style scoped>\n",
       "    .dataframe tbody tr th:only-of-type {\n",
       "        vertical-align: middle;\n",
       "    }\n",
       "\n",
       "    .dataframe tbody tr th {\n",
       "        vertical-align: top;\n",
       "    }\n",
       "\n",
       "    .dataframe thead th {\n",
       "        text-align: right;\n",
       "    }\n",
       "</style>\n",
       "<table border=\"1\" class=\"dataframe\">\n",
       "  <thead>\n",
       "    <tr style=\"text-align: right;\">\n",
       "      <th></th>\n",
       "      <th>tweet</th>\n",
       "      <th>target</th>\n",
       "    </tr>\n",
       "  </thead>\n",
       "  <tbody>\n",
       "    <tr>\n",
       "      <th>0</th>\n",
       "      <td>Warm wishes for a wonderful holiday and happy ...</td>\n",
       "      <td>1</td>\n",
       "    </tr>\n",
       "    <tr>\n",
       "      <th>1</th>\n",
       "      <td>from tonight going to  vic fires  Aparently ...</td>\n",
       "      <td>0</td>\n",
       "    </tr>\n",
       "    <tr>\n",
       "      <th>2</th>\n",
       "      <td>I've just published:  \"Ultimate  Management Gu...</td>\n",
       "      <td>1</td>\n",
       "    </tr>\n",
       "    <tr>\n",
       "      <th>3</th>\n",
       "      <td>It sucks when you're poor It sucks when you ha...</td>\n",
       "      <td>1</td>\n",
       "    </tr>\n",
       "    <tr>\n",
       "      <th>4</th>\n",
       "      <td>2019年7月にスタートしたStay Gold✨  小さなスタジオでの デビューイベントから...</td>\n",
       "      <td>1</td>\n",
       "    </tr>\n",
       "    <tr>\n",
       "      <th>...</th>\n",
       "      <td>...</td>\n",
       "      <td>...</td>\n",
       "    </tr>\n",
       "    <tr>\n",
       "      <th>13097</th>\n",
       "      <td>2018 recap:  * Quit from permanent post &amp;amp; ...</td>\n",
       "      <td>1</td>\n",
       "    </tr>\n",
       "    <tr>\n",
       "      <th>13098</th>\n",
       "      <td>haveyouever followed a soap opera   I follow ...</td>\n",
       "      <td>0</td>\n",
       "    </tr>\n",
       "    <tr>\n",
       "      <th>13099</th>\n",
       "      <td>Last Sunday was LITE...  Future   @ Lagos Ikor...</td>\n",
       "      <td>1</td>\n",
       "    </tr>\n",
       "    <tr>\n",
       "      <th>13100</th>\n",
       "      <td>How do we express our anger, frustrations and ...</td>\n",
       "      <td>1</td>\n",
       "    </tr>\n",
       "    <tr>\n",
       "      <th>13101</th>\n",
       "      <td>Currently: laying on the floor with 0% motivat...</td>\n",
       "      <td>1</td>\n",
       "    </tr>\n",
       "  </tbody>\n",
       "</table>\n",
       "<p>13102 rows × 2 columns</p>\n",
       "</div>"
      ],
      "text/plain": [
       "                                                   tweet  target\n",
       "0      Warm wishes for a wonderful holiday and happy ...       1\n",
       "1        from tonight going to  vic fires  Aparently ...       0\n",
       "2      I've just published:  \"Ultimate  Management Gu...       1\n",
       "3      It sucks when you're poor It sucks when you ha...       1\n",
       "4      2019年7月にスタートしたStay Gold✨  小さなスタジオでの デビューイベントから...       1\n",
       "...                                                  ...     ...\n",
       "13097  2018 recap:  * Quit from permanent post &amp; ...       1\n",
       "13098   haveyouever followed a soap opera   I follow ...       0\n",
       "13099  Last Sunday was LITE...  Future   @ Lagos Ikor...       1\n",
       "13100  How do we express our anger, frustrations and ...       1\n",
       "13101  Currently: laying on the floor with 0% motivat...       1\n",
       "\n",
       "[13102 rows x 2 columns]"
      ]
     },
     "execution_count": 23,
     "metadata": {},
     "output_type": "execute_result"
    }
   ],
   "source": [
    "combined"
   ]
  },
  {
   "cell_type": "code",
   "execution_count": 24,
   "id": "8518e432",
   "metadata": {},
   "outputs": [
    {
     "data": {
      "text/plain": [
       "13102"
      ]
     },
     "execution_count": 24,
     "metadata": {},
     "output_type": "execute_result"
    }
   ],
   "source": [
    "len(combined)"
   ]
  },
  {
   "cell_type": "code",
   "execution_count": null,
   "id": "ea81d7c2",
   "metadata": {},
   "outputs": [],
   "source": []
  }
 ],
 "metadata": {
  "kernelspec": {
   "display_name": "Python 3",
   "language": "python",
   "name": "python3"
  },
  "language_info": {
   "codemirror_mode": {
    "name": "ipython",
    "version": 3
   },
   "file_extension": ".py",
   "mimetype": "text/x-python",
   "name": "python",
   "nbconvert_exporter": "python",
   "pygments_lexer": "ipython3",
   "version": "3.8.0"
  }
 },
 "nbformat": 4,
 "nbformat_minor": 5
}
